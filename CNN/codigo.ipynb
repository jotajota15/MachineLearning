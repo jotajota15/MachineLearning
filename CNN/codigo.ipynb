{
 "cells": [
  {
   "cell_type": "markdown",
   "metadata": {},
   "source": [
    "# Datos del codigo:\n",
    "* Estudiante: Juan Jose Valverde Campos\n",
    "* Carnet: B47200\n",
    "* Laboratorio 4 - CNN\n",
    "* Profesor: Pablo Sauma Chacón"
   ]
  },
  {
   "cell_type": "markdown",
   "metadata": {},
   "source": [
    "# 1. Importación de Librerías"
   ]
  },
  {
   "cell_type": "code",
   "execution_count": 21,
   "metadata": {},
   "outputs": [],
   "source": [
    "import matplotlib.pyplot as plt\n",
    "import numpy as np\n",
    "import pickle\n",
    "import torch as pt \n",
    "from torch.utils.data import Dataset\n",
    "from torch.utils.data import DataLoader"
   ]
  },
  {
   "cell_type": "markdown",
   "metadata": {},
   "source": [
    "# 2. Se obtienen los datos con los cuales se va a trabajar"
   ]
  },
  {
   "cell_type": "code",
   "execution_count": 22,
   "metadata": {},
   "outputs": [],
   "source": [
    "# Custom subdirectory to find images\n",
    "DIRECTORY = \"images\"\n",
    "def load_data():\n",
    "    def unpickle(file):\n",
    "        with open(file, 'rb') as fo:\n",
    "            dict = pickle.load(fo, encoding='bytes')\n",
    "        return dict\n",
    "    names = [n.decode('utf-8') for n in unpickle(DIRECTORY+\"/batches.meta\")[b'label_names']]\n",
    "    x_train = None\n",
    "    y_train = []\n",
    "    for i in range(1,6):\n",
    "        data = unpickle(DIRECTORY+\"/data_batch_\"+str(i))\n",
    "        if i>1:\n",
    "            x_train = np.append(x_train, data[b'data'], axis=0)\n",
    "        else:\n",
    "            x_train = data[b'data']\n",
    "        y_train += data[b'labels']\n",
    "    data = unpickle(DIRECTORY+\"/test_batch\")\n",
    "    x_test = data[b'data']\n",
    "    y_test = data[b'labels']\n",
    "    return names,x_train,y_train,x_test,y_test\n",
    "\n",
    "names,x_train,y_train,x_test,y_test = load_data()\n",
    "# pt.manual_seed(29)\n",
    "# pt.cuda.manual_seed(29)"
   ]
  },
  {
   "cell_type": "markdown",
   "metadata": {},
   "source": [
    "# 3.Se obtiene la visualización de imágenes"
   ]
  },
  {
   "cell_type": "code",
   "execution_count": 23,
   "metadata": {},
   "outputs": [
    {
     "data": {
      "image/png": "[encoded data removed]",
      "text/plain": [
       "<Figure size 432x288 with 1 Axes>"
      ]
     },
     "metadata": {
      "needs_background": "light"
     },
     "output_type": "display_data"
    },
    {
     "name": "stdout",
     "output_type": "stream",
     "text": [
      "automobile\n"
     ]
    }
   ],
   "source": [
    "def plot_tensor(tensor, perm=None):\n",
    "    if perm==None: perm = (1,2,0)\n",
    "    plt.figure()\n",
    "    plt.imshow(tensor.permute(perm).numpy().astype(np.uint8))\n",
    "    plt.show()\n",
    "images = pt.Tensor(x_train)\n",
    "images = images.resize_(50000,3,32,32)\n",
    "plot_tensor(images[5])\n",
    "print(names[y_train[5]])\n"
   ]
  },
  {
   "cell_type": "markdown",
   "metadata": {},
   "source": [
    "# 4.Se crea la clase que va a ser llamada para entrenarse"
   ]
  },
  {
   "cell_type": "code",
   "execution_count": 24,
   "metadata": {},
   "outputs": [],
   "source": [
    "# Se crea una clase que hereda de torch.nn.Module\n",
    "# En el constructor se debe llamar al constructor padre  y crear sus capas\n",
    "# Y se debe crear su método forward que ejecuta el paso de los datos por las neuronas\n",
    "\n",
    "\n",
    "class SurvivorClassifier(pt.nn.Module):\n",
    "\tdef __init__(self):\n",
    "\t\t'''\n",
    "\t\tSe crea la red neuronal\n",
    "\t\t'''\n",
    "\t\tsuper().__init__()\n",
    "\t\t# 3 x 32 x 32 \n",
    "\t\tself.fc1 = pt.nn.Conv2d(3, 6, (3,3),padding= \"same\")\n",
    "\t\tself.act1 = pt.nn.LeakyReLU()\n",
    "\t\tself.pool1 = pt.nn.MaxPool2d(2)\n",
    "\t\t# 5 x 16 x 16 \n",
    "\t\tself.fc2 = pt.nn.Conv2d(6, 9, (5,5),padding= \"same\")\n",
    "\t\tself.act2 = pt.nn.LeakyReLU()\n",
    "\t\tself.pool2 = pt.nn.MaxPool2d(2)\n",
    "\t\t# 7 x 8 x 8\n",
    "\t\tself.fc3 = pt.nn.Conv2d(9, 10, (5,5),padding= \"same\")\n",
    "\t\tself.act3 = pt.nn.LeakyReLU()\n",
    "\t\tself.pool3 = pt.nn.MaxPool2d(2)\n",
    "\t\t# 8 x 4 x 4\n",
    "\t\t# self.fc4 = pt.nn.Conv2d(120, 5, (5,5),padding= \"same\")\n",
    "\t\t# self.act4 = pt.nn.LeakyReLU()\n",
    "\t\t# self.pool4 = pt.nn.AvgPool2d(2)\n",
    "\n",
    "\t\t# self.fc4 = pt.nn.Linear( 10 * 4 * 4, 10*4)\n",
    "\t\tself.fc4 = pt.nn.Linear( 10 * 4 * 4, 10)\n",
    "\t\tself.act4 = pt.nn.Sigmoid()\n",
    "\n",
    "\t\t# self.fc5 = pt.nn.Linear(10*4, 10)\n",
    "\t\t# self.act5 = pt.nn.Sigmoid()\n",
    "\n",
    "\t\t# # # 5 x 2 x 2 , no recomendado \n",
    "\t\t# # self.fc5 = pt.nn.Linear(20, 10)\n",
    "\t\t# # self.act5 = pt.nn.Sigmoid()\n",
    "\n",
    "\t\t# self.dropout = pt.nn.Dropout(0.15)\n",
    "\n",
    "\n",
    "\t# \n",
    "\t# Lrelu mata\n",
    "\t# Relu, lo mata el 0 \n",
    "\n",
    "\n",
    "\t# Maxpool ignora la parte de la imagen y más rapido backpropagation\n",
    "\n",
    "\t# Aumentar la dimensiones y nunca botarlo, queremos ir subiendo y subiendo\n",
    "\n",
    "\n",
    "\tdef forward(self, x):\n",
    "\t\th1 = self.pool1(self.act1(self.fc1(x)))\n",
    "\t\th2 = self.pool2(self.act2(self.fc2(h1)))\n",
    "\t\th3 = self.pool3(self.act3(self.fc3(h2)))\n",
    "\t\t# h4 = self.act4(self.fc4(h3.view(h3.size(0), -1) ))\n",
    "\t\treturn self.act4(self.fc4(h3.view(h3.size(0), -1) ))\n",
    "\t\t#h4 = self.dropout(h4) # En capas densas por lo general , se podría en convolucionales pero es un punto negro\n",
    "\t\t#return self.act5( self.fc5(h4) )\n"
   ]
  },
  {
   "cell_type": "markdown",
   "metadata": {},
   "source": [
    "# 5. Se convierte los datos en tensores y se hace los batch de entrenamiento"
   ]
  },
  {
   "cell_type": "code",
   "execution_count": 25,
   "metadata": {},
   "outputs": [],
   "source": [
    "x_train = pt.Tensor(x_train)\n",
    "y_train = pt.Tensor(y_train)\n",
    "x_test = pt.Tensor(x_test)\n",
    "y_test = pt.Tensor(y_test)\n",
    "x_train = x_train.resize_(50000,3,32,32)\n",
    "x_test = x_test.resize_(10000,3,32,32)"
   ]
  },
  {
   "cell_type": "code",
   "execution_count": 26,
   "metadata": {},
   "outputs": [],
   "source": [
    "class MyDataset(Dataset):\n",
    "    \n",
    "    def __init__(self, x, y):\n",
    "        super(MyDataset, self).__init__()\n",
    "        assert x.shape[0] == y.shape[0] # assuming shape[0] = dataset size\n",
    "        self.x = x\n",
    "        self.y = y\n",
    "\n",
    "\n",
    "    def __len__(self):\n",
    "        return self.y.shape[0]\n",
    "\n",
    "    def __getitem__(self, index):\n",
    "        return self.x[index], self.y[index]\n",
    "\n",
    "traindata = MyDataset(x_train, y_train)\n",
    "train_dataloader = DataLoader(traindata, batch_size=5000, shuffle=True)"
   ]
  },
  {
   "cell_type": "markdown",
   "metadata": {},
   "source": [
    "# 6. Se prepara el entrenamiento, creando la función de epoca y el llamado de entrenamiento"
   ]
  },
  {
   "cell_type": "code",
   "execution_count": 27,
   "metadata": {},
   "outputs": [],
   "source": [
    "def train_one_epoch(epoch_index,model,optimizer,loss_fn):\n",
    "    running_loss = 0.\n",
    "    last_loss = 0.\n",
    "\n",
    "    # Here, we use enumerate(training_loader) instead of\n",
    "    # iter(training_loader) so that we can track the batch\n",
    "    # index and do some intra-epoch reporting\n",
    "    for i, data in enumerate(train_dataloader):\n",
    "        # Every data instance is an input + label pair\n",
    "        inputs, labels = data\n",
    "\n",
    "        # Zero your gradients for every batch!\n",
    "        optimizer.zero_grad()\n",
    "\n",
    "        # Make predictions for this batch\n",
    "        outputs = model(inputs)\n",
    "\n",
    "        # Compute the loss and its gradients\n",
    "        loss = loss_fn(outputs, labels.long())\n",
    "        loss.backward()\n",
    "\n",
    "        # Adjust learning weights\n",
    "        optimizer.step()\n",
    "\n",
    "        # Gather data and report\n",
    "        running_loss += loss.item()\n",
    "        # if i % 1000 == 999:\n",
    "        #     last_loss = running_loss / 1000 # loss per batch\n",
    "        if i % 10 == 9:\n",
    "            last_loss = running_loss / 10 # loss per batch\n",
    "            tb_x = epoch_index * len(train_dataloader) + i + 1\n",
    "            running_loss = 0.\n",
    "    return last_loss\n",
    "    \n",
    "def information(voutputs,y_test):\n",
    "    answer = pt.argmax(voutputs, dim=1)\n",
    "    correct = 0\n",
    "    for i in range(y_test.size().numel()):\n",
    "        if answer[i]==y_test[i]:\n",
    "            correct +=1\n",
    "    return correct / y_test.size().numel()"
   ]
  },
  {
   "cell_type": "code",
   "execution_count": 28,
   "metadata": {},
   "outputs": [],
   "source": [
    "# def train_one_epoch(epoch_index, tb_writer):\n",
    "#     running_loss = 0.\n",
    "#     last_loss = 0.\n",
    "\n",
    "#     # Here, we use enumerate(training_loader) instead of\n",
    "#     # iter(training_loader) so that we can track the batch\n",
    "#     # index and do some intra-epoch reporting\n",
    "#     for i, data in enumerate(train_dataloader):\n",
    "#         # Every data instance is an input + label pair\n",
    "#         inputs, labels = data\n",
    "\n",
    "#         # Zero your gradients for every batch!\n",
    "#         optimizer.zero_grad()\n",
    "\n",
    "#         # Make predictions for this batch\n",
    "#         outputs = model(inputs)\n",
    "\n",
    "#         # Compute the loss and its gradients\n",
    "#         loss = loss_fn(outputs, labels.long())\n",
    "#         loss.backward()\n",
    "\n",
    "#         # Adjust learning weights\n",
    "#         optimizer.step()\n",
    "\n",
    "#         # Gather data and report\n",
    "#         running_loss += loss.item()\n",
    "#         # if i % 1000 == 999:\n",
    "#         #     last_loss = running_loss / 1000 # loss per batch\n",
    "#         if i % 10 == 9:\n",
    "#             last_loss = running_loss / 10 # loss per batch\n",
    "#             # print('  batch {} loss: {}'.format(i + 1, last_loss))\n",
    "#             tb_x = epoch_index * len(train_dataloader) + i + 1\n",
    "#             # tb_writer('Loss/train', last_loss, tb_x)\n",
    "#             tb_writer.add_scalar('Loss/train', last_loss, tb_x)\n",
    "#             running_loss = 0.\n",
    "\n",
    "#     return last_loss\n",
    "# def information(voutputs,y_test):\n",
    "#     answer = pt.argmax(voutputs, dim=1)\n",
    "#     correct = 0\n",
    "#     for i in range(y_test.size().numel()):\n",
    "#         if answer[i]==y_test[i]:\n",
    "#             correct +=1\n",
    "#     return correct / y_test.size().numel()"
   ]
  },
  {
   "cell_type": "code",
   "execution_count": 36,
   "metadata": {},
   "outputs": [],
   "source": [
    "def completeTrain(epoch_number,best_vloss,model,optimizer,loss_fn,loss_train,loss_test):\n",
    "\n",
    "    for epoch in range(EPOCHS):\n",
    "        print('EPOCH {}:'.format(epoch_number + 1))\n",
    "\n",
    "        # Make sure gradient tracking is on, and do a pass over the data\n",
    "        model.train(True)\n",
    "        avg_loss = train_one_epoch(epoch_number,model,optimizer,loss_fn)\n",
    "        # We don't need gradients on to do reporting\n",
    "        model.train(False)\n",
    "\n",
    "        running_vloss = 0.0\n",
    "        \n",
    "        voutputs = model(x_test)\n",
    "        vloss = loss_fn(voutputs, y_test.long())\n",
    "        running_vloss += vloss\n",
    "\n",
    "        avg_vloss = running_vloss\n",
    "\n",
    "        loss_train.append(avg_loss)\n",
    "        loss_test.append(vloss.item())\n",
    "\n",
    "        epoch_number += 1\n",
    "\n",
    "        if(epoch_number % 1 == 0):\n",
    "          \n",
    "          print('LOSS train {} valid {}'.format(avg_loss, avg_vloss))\n",
    "          print('Propotion: {}'.format(information(voutputs,y_test)))\n",
    "\n",
    "        \n",
    "\n",
    "        # Track best performance, and save the model's state\n",
    "        if avg_vloss < best_vloss:\n",
    "            print(\"entra\")\n",
    "            best_vloss = avg_vloss\n",
    "            \n",
    "\n",
    "            pt.save({\n",
    "            'epoch': epoch_number,\n",
    "            'model_state_dict': model.state_dict(),\n",
    "            'optimizer_state_dict': optimizer.state_dict(),\n",
    "            'loss': best_vloss,\n",
    "            'loss_train':loss_train,\n",
    "            'loss_test' : loss_test,\n",
    "            }, \"myModel\")\n",
    "\n",
    "    return loss_train,loss_test\n",
    "    "
   ]
  },
  {
   "cell_type": "code",
   "execution_count": 41,
   "metadata": {},
   "outputs": [
    {
     "name": "stdout",
     "output_type": "stream",
     "text": [
      "EPOCH 1:\n",
      "LOSS train 2.346930718421936 valid 2.2849483489990234\n",
      "Propotion: 0.1463\n",
      "entra\n",
      "EPOCH 2:\n",
      "LOSS train 2.218825578689575 valid 2.146169424057007\n",
      "Propotion: 0.228\n",
      "entra\n",
      "EPOCH 3:\n"
     ]
    },
    {
     "ename": "KeyboardInterrupt",
     "evalue": "",
     "output_type": "error",
     "traceback": [
      "\u001b[1;31m---------------------------------------------------------------------------\u001b[0m",
      "\u001b[1;31mKeyboardInterrupt\u001b[0m                         Traceback (most recent call last)",
      "\u001b[1;32mc:\\Users\\Carlos\\Desktop\\University\\Semestre Actual\\MachineLearning\\CNN\\codigo.ipynb Cell 17'\u001b[0m in \u001b[0;36m<cell line: 25>\u001b[1;34m()\u001b[0m\n\u001b[0;32m     <a href='vscode-notebook-cell:/c%3A/Users/Carlos/Desktop/University/Semestre%20Actual/MachineLearning/CNN/codigo.ipynb#ch0000016?line=21'>22</a>\u001b[0m     \u001b[39mreturn\u001b[39;00m completeTrain(epoch_number,best_vloss,model,optimizer,loss_fn,loss_test,loss_train)\n\u001b[0;32m     <a href='vscode-notebook-cell:/c%3A/Users/Carlos/Desktop/University/Semestre%20Actual/MachineLearning/CNN/codigo.ipynb#ch0000016?line=23'>24</a>\u001b[0m EPOCHS \u001b[39m=\u001b[39m \u001b[39m5\u001b[39m\n\u001b[1;32m---> <a href='vscode-notebook-cell:/c%3A/Users/Carlos/Desktop/University/Semestre%20Actual/MachineLearning/CNN/codigo.ipynb#ch0000016?line=24'>25</a>\u001b[0m loss_train,loss_test \u001b[39m=\u001b[39m callTrain()\n\u001b[0;32m     <a href='vscode-notebook-cell:/c%3A/Users/Carlos/Desktop/University/Semestre%20Actual/MachineLearning/CNN/codigo.ipynb#ch0000016?line=25'>26</a>\u001b[0m plt\u001b[39m.\u001b[39mplot(loss_train,color \u001b[39m=\u001b[39m \u001b[39m\"\u001b[39m\u001b[39mr\u001b[39m\u001b[39m\"\u001b[39m)\n\u001b[0;32m     <a href='vscode-notebook-cell:/c%3A/Users/Carlos/Desktop/University/Semestre%20Actual/MachineLearning/CNN/codigo.ipynb#ch0000016?line=26'>27</a>\u001b[0m plt\u001b[39m.\u001b[39mplot(loss_test,color \u001b[39m=\u001b[39m \u001b[39m\"\u001b[39m\u001b[39mg\u001b[39m\u001b[39m\"\u001b[39m)\n",
      "\u001b[1;32mc:\\Users\\Carlos\\Desktop\\University\\Semestre Actual\\MachineLearning\\CNN\\codigo.ipynb Cell 17'\u001b[0m in \u001b[0;36mcallTrain\u001b[1;34m(modelName)\u001b[0m\n\u001b[0;32m     <a href='vscode-notebook-cell:/c%3A/Users/Carlos/Desktop/University/Semestre%20Actual/MachineLearning/CNN/codigo.ipynb#ch0000016?line=18'>19</a>\u001b[0m     loss_train \u001b[39m=\u001b[39m checkpoint[\u001b[39m\"\u001b[39m\u001b[39mloss_train\u001b[39m\u001b[39m\"\u001b[39m]\n\u001b[0;32m     <a href='vscode-notebook-cell:/c%3A/Users/Carlos/Desktop/University/Semestre%20Actual/MachineLearning/CNN/codigo.ipynb#ch0000016?line=19'>20</a>\u001b[0m     loss_test \u001b[39m=\u001b[39m checkpoint[\u001b[39m\"\u001b[39m\u001b[39mloss_test\u001b[39m\u001b[39m\"\u001b[39m]\n\u001b[1;32m---> <a href='vscode-notebook-cell:/c%3A/Users/Carlos/Desktop/University/Semestre%20Actual/MachineLearning/CNN/codigo.ipynb#ch0000016?line=21'>22</a>\u001b[0m \u001b[39mreturn\u001b[39;00m completeTrain(epoch_number,best_vloss,model,optimizer,loss_fn,loss_test,loss_train)\n",
      "\u001b[1;32mc:\\Users\\Carlos\\Desktop\\University\\Semestre Actual\\MachineLearning\\CNN\\codigo.ipynb Cell 16'\u001b[0m in \u001b[0;36mcompleteTrain\u001b[1;34m(epoch_number, best_vloss, model, optimizer, loss_fn, loss_train, loss_test)\u001b[0m\n\u001b[0;32m      <a href='vscode-notebook-cell:/c%3A/Users/Carlos/Desktop/University/Semestre%20Actual/MachineLearning/CNN/codigo.ipynb#ch0000015?line=5'>6</a>\u001b[0m \u001b[39m# Make sure gradient tracking is on, and do a pass over the data\u001b[39;00m\n\u001b[0;32m      <a href='vscode-notebook-cell:/c%3A/Users/Carlos/Desktop/University/Semestre%20Actual/MachineLearning/CNN/codigo.ipynb#ch0000015?line=6'>7</a>\u001b[0m model\u001b[39m.\u001b[39mtrain(\u001b[39mTrue\u001b[39;00m)\n\u001b[1;32m----> <a href='vscode-notebook-cell:/c%3A/Users/Carlos/Desktop/University/Semestre%20Actual/MachineLearning/CNN/codigo.ipynb#ch0000015?line=7'>8</a>\u001b[0m avg_loss \u001b[39m=\u001b[39m train_one_epoch(epoch_number,model,optimizer,loss_fn)\n\u001b[0;32m      <a href='vscode-notebook-cell:/c%3A/Users/Carlos/Desktop/University/Semestre%20Actual/MachineLearning/CNN/codigo.ipynb#ch0000015?line=8'>9</a>\u001b[0m \u001b[39m# We don't need gradients on to do reporting\u001b[39;00m\n\u001b[0;32m     <a href='vscode-notebook-cell:/c%3A/Users/Carlos/Desktop/University/Semestre%20Actual/MachineLearning/CNN/codigo.ipynb#ch0000015?line=9'>10</a>\u001b[0m model\u001b[39m.\u001b[39mtrain(\u001b[39mFalse\u001b[39;00m)\n",
      "\u001b[1;32mc:\\Users\\Carlos\\Desktop\\University\\Semestre Actual\\MachineLearning\\CNN\\codigo.ipynb Cell 14'\u001b[0m in \u001b[0;36mtrain_one_epoch\u001b[1;34m(epoch_index, model, optimizer, loss_fn)\u001b[0m\n\u001b[0;32m     <a href='vscode-notebook-cell:/c%3A/Users/Carlos/Desktop/University/Semestre%20Actual/MachineLearning/CNN/codigo.ipynb#ch0000013?line=17'>18</a>\u001b[0m \u001b[39m# Compute the loss and its gradients\u001b[39;00m\n\u001b[0;32m     <a href='vscode-notebook-cell:/c%3A/Users/Carlos/Desktop/University/Semestre%20Actual/MachineLearning/CNN/codigo.ipynb#ch0000013?line=18'>19</a>\u001b[0m loss \u001b[39m=\u001b[39m loss_fn(outputs, labels\u001b[39m.\u001b[39mlong())\n\u001b[1;32m---> <a href='vscode-notebook-cell:/c%3A/Users/Carlos/Desktop/University/Semestre%20Actual/MachineLearning/CNN/codigo.ipynb#ch0000013?line=19'>20</a>\u001b[0m loss\u001b[39m.\u001b[39;49mbackward()\n\u001b[0;32m     <a href='vscode-notebook-cell:/c%3A/Users/Carlos/Desktop/University/Semestre%20Actual/MachineLearning/CNN/codigo.ipynb#ch0000013?line=21'>22</a>\u001b[0m \u001b[39m# Adjust learning weights\u001b[39;00m\n\u001b[0;32m     <a href='vscode-notebook-cell:/c%3A/Users/Carlos/Desktop/University/Semestre%20Actual/MachineLearning/CNN/codigo.ipynb#ch0000013?line=22'>23</a>\u001b[0m optimizer\u001b[39m.\u001b[39mstep()\n",
      "File \u001b[1;32mc:\\Users\\Carlos\\anaconda3\\envs\\Redes\\lib\\site-packages\\torch\\_tensor.py:363\u001b[0m, in \u001b[0;36mTensor.backward\u001b[1;34m(self, gradient, retain_graph, create_graph, inputs)\u001b[0m\n\u001b[0;32m    <a href='file:///c%3A/Users/Carlos/anaconda3/envs/Redes/lib/site-packages/torch/_tensor.py?line=353'>354</a>\u001b[0m \u001b[39mif\u001b[39;00m has_torch_function_unary(\u001b[39mself\u001b[39m):\n\u001b[0;32m    <a href='file:///c%3A/Users/Carlos/anaconda3/envs/Redes/lib/site-packages/torch/_tensor.py?line=354'>355</a>\u001b[0m     \u001b[39mreturn\u001b[39;00m handle_torch_function(\n\u001b[0;32m    <a href='file:///c%3A/Users/Carlos/anaconda3/envs/Redes/lib/site-packages/torch/_tensor.py?line=355'>356</a>\u001b[0m         Tensor\u001b[39m.\u001b[39mbackward,\n\u001b[0;32m    <a href='file:///c%3A/Users/Carlos/anaconda3/envs/Redes/lib/site-packages/torch/_tensor.py?line=356'>357</a>\u001b[0m         (\u001b[39mself\u001b[39m,),\n\u001b[1;32m   (...)\u001b[0m\n\u001b[0;32m    <a href='file:///c%3A/Users/Carlos/anaconda3/envs/Redes/lib/site-packages/torch/_tensor.py?line=360'>361</a>\u001b[0m         create_graph\u001b[39m=\u001b[39mcreate_graph,\n\u001b[0;32m    <a href='file:///c%3A/Users/Carlos/anaconda3/envs/Redes/lib/site-packages/torch/_tensor.py?line=361'>362</a>\u001b[0m         inputs\u001b[39m=\u001b[39minputs)\n\u001b[1;32m--> <a href='file:///c%3A/Users/Carlos/anaconda3/envs/Redes/lib/site-packages/torch/_tensor.py?line=362'>363</a>\u001b[0m torch\u001b[39m.\u001b[39;49mautograd\u001b[39m.\u001b[39;49mbackward(\u001b[39mself\u001b[39;49m, gradient, retain_graph, create_graph, inputs\u001b[39m=\u001b[39;49minputs)\n",
      "File \u001b[1;32mc:\\Users\\Carlos\\anaconda3\\envs\\Redes\\lib\\site-packages\\torch\\autograd\\__init__.py:173\u001b[0m, in \u001b[0;36mbackward\u001b[1;34m(tensors, grad_tensors, retain_graph, create_graph, grad_variables, inputs)\u001b[0m\n\u001b[0;32m    <a href='file:///c%3A/Users/Carlos/anaconda3/envs/Redes/lib/site-packages/torch/autograd/__init__.py?line=167'>168</a>\u001b[0m     retain_graph \u001b[39m=\u001b[39m create_graph\n\u001b[0;32m    <a href='file:///c%3A/Users/Carlos/anaconda3/envs/Redes/lib/site-packages/torch/autograd/__init__.py?line=169'>170</a>\u001b[0m \u001b[39m# The reason we repeat same the comment below is that\u001b[39;00m\n\u001b[0;32m    <a href='file:///c%3A/Users/Carlos/anaconda3/envs/Redes/lib/site-packages/torch/autograd/__init__.py?line=170'>171</a>\u001b[0m \u001b[39m# some Python versions print out the first line of a multi-line function\u001b[39;00m\n\u001b[0;32m    <a href='file:///c%3A/Users/Carlos/anaconda3/envs/Redes/lib/site-packages/torch/autograd/__init__.py?line=171'>172</a>\u001b[0m \u001b[39m# calls in the traceback and some print out the last line\u001b[39;00m\n\u001b[1;32m--> <a href='file:///c%3A/Users/Carlos/anaconda3/envs/Redes/lib/site-packages/torch/autograd/__init__.py?line=172'>173</a>\u001b[0m Variable\u001b[39m.\u001b[39;49m_execution_engine\u001b[39m.\u001b[39;49mrun_backward(  \u001b[39m# Calls into the C++ engine to run the backward pass\u001b[39;49;00m\n\u001b[0;32m    <a href='file:///c%3A/Users/Carlos/anaconda3/envs/Redes/lib/site-packages/torch/autograd/__init__.py?line=173'>174</a>\u001b[0m     tensors, grad_tensors_, retain_graph, create_graph, inputs,\n\u001b[0;32m    <a href='file:///c%3A/Users/Carlos/anaconda3/envs/Redes/lib/site-packages/torch/autograd/__init__.py?line=174'>175</a>\u001b[0m     allow_unreachable\u001b[39m=\u001b[39;49m\u001b[39mTrue\u001b[39;49;00m, accumulate_grad\u001b[39m=\u001b[39;49m\u001b[39mTrue\u001b[39;49;00m)\n",
      "\u001b[1;31mKeyboardInterrupt\u001b[0m: "
     ]
    }
   ],
   "source": [
    "def callTrain(modelName = None):\n",
    "    loss_fn = pt.nn.CrossEntropyLoss()\t# Función de error a utilizar torch.\n",
    "    if modelName == None:\n",
    "        model = SurvivorClassifier() # Crea el modelo\n",
    "        optimizer = pt.optim.Adam(model.parameters(), lr=1e-2)\t# Optimizador\n",
    "        epoch_number = 0\n",
    "        best_vloss = 1_000_000.\n",
    "        loss_train = []\n",
    "        loss_test = []\n",
    "\n",
    "    else:\n",
    "        checkpoint = pt.load(modelName)\n",
    "        model = SurvivorClassifier()\n",
    "        model.load_state_dict(checkpoint[\"model_state_dict\"])  # Crea y carga el modelo\n",
    "        optimizer = pt.optim.Adam(model.parameters(), lr=1e-2)\n",
    "        optimizer.load_state_dict(checkpoint[\"optimizer_state_dict\"])\t# Crea y carga el optimizador\n",
    "        epoch_number = checkpoint[\"epoch\"] # Carga las epocas donde quedo el modelo\n",
    "        best_vloss = checkpoint[\"loss\"] # Carga la menor perdida alcanzada por el modelo\n",
    "        loss_train = checkpoint[\"loss_train\"]\n",
    "        loss_test = checkpoint[\"loss_test\"]\n",
    "\n",
    "    return completeTrain(epoch_number,best_vloss,model,optimizer,loss_fn,loss_test,loss_train)\n",
    "    \n",
    "EPOCHS = 5\n",
    "loss_train,loss_test = callTrain()\n",
    "plt.plot(loss_train,color = \"r\")\n",
    "plt.plot(loss_test,color = \"g\")\n",
    "plt.show()"
   ]
  },
  {
   "cell_type": "code",
   "execution_count": null,
   "metadata": {},
   "outputs": [
    {
     "ename": "TypeError",
     "evalue": "list indices must be integers or slices, not tuple",
     "output_type": "error",
     "traceback": [
      "\u001b[1;31m---------------------------------------------------------------------------\u001b[0m",
      "\u001b[1;31mTypeError\u001b[0m                                 Traceback (most recent call last)",
      "\u001b[1;32mc:\\Users\\Carlos\\Desktop\\University\\Semestre Actual\\MachineLearning\\CNN\\codigo.ipynb Cell 18'\u001b[0m in \u001b[0;36m<cell line: 1>\u001b[1;34m()\u001b[0m\n\u001b[1;32m----> <a href='vscode-notebook-cell:/c%3A/Users/Carlos/Desktop/University/Semestre%20Actual/MachineLearning/CNN/codigo.ipynb#ch0000025?line=0'>1</a>\u001b[0m plt\u001b[39m.\u001b[39mplot(loss_train[\u001b[39m4\u001b[39;49m,\u001b[39m3\u001b[39;49m],color \u001b[39m=\u001b[39m \u001b[39m\"\u001b[39m\u001b[39mr\u001b[39m\u001b[39m\"\u001b[39m)\n\u001b[0;32m      <a href='vscode-notebook-cell:/c%3A/Users/Carlos/Desktop/University/Semestre%20Actual/MachineLearning/CNN/codigo.ipynb#ch0000025?line=1'>2</a>\u001b[0m plt\u001b[39m.\u001b[39mplot(loss_test,color \u001b[39m=\u001b[39m \u001b[39m\"\u001b[39m\u001b[39mg\u001b[39m\u001b[39m\"\u001b[39m)\n\u001b[0;32m      <a href='vscode-notebook-cell:/c%3A/Users/Carlos/Desktop/University/Semestre%20Actual/MachineLearning/CNN/codigo.ipynb#ch0000025?line=2'>3</a>\u001b[0m plt\u001b[39m.\u001b[39mshow()\n",
      "\u001b[1;31mTypeError\u001b[0m: list indices must be integers or slices, not tuple"
     ]
    }
   ],
   "source": [
    "plt.plot(loss_train,color = \"r\")\n",
    "plt.plot(loss_test,color = \"g\")\n",
    "plt.show()"
   ]
  },
  {
   "cell_type": "code",
   "execution_count": null,
   "metadata": {},
   "outputs": [
    {
     "name": "stdout",
     "output_type": "stream",
     "text": [
      "EPOCH 1:\n",
      "LOSS train 2.3070266246795654 valid 2.3033571243286133\n",
      "Propotion: 0.1016\n",
      "entra\n",
      "EPOCH 2:\n",
      "LOSS train 2.2961673021316527 valid 2.2838504314422607\n",
      "Propotion: 0.1217\n",
      "entra\n"
     ]
    }
   ],
   "source": [
    "# Initializing in a separate cell so we can easily add more epochs to the same run\n",
    "from datetime import datetime\n",
    "from torch.utils.tensorboard import SummaryWriter\n",
    "model = SurvivorClassifier()\t# Crea el modelo\n",
    "loss_fn = pt.nn.CrossEntropyLoss()\t\t# Función de error a utilizar torch.\n",
    "optimizer = pt.optim.Adam(model.parameters(), lr=0.01)\t\t# Optimizador\n",
    "\n",
    "timestamp = datetime.now().strftime('%Y%m%d_%H%M%S')\n",
    "writer = SummaryWriter('runs/fashion_trainer_{}'.format(timestamp))\n",
    "tensorBoard = False\n",
    "\n",
    "\n",
    "EPOCHS = 2\n",
    "\n",
    "\n",
    "def completeTrain(epoch_number,best_vloss):\n",
    "    for epoch in range(EPOCHS):\n",
    "        print('EPOCH {}:'.format(epoch_number + 1))\n",
    "\n",
    "        # Make sure gradient tracking is on, and do a pass over the data\n",
    "        model.train(True)\n",
    "        avg_loss = train_one_epoch(epoch_number,model,optimizer,loss_fn)\n",
    "        # We don't need gradients on to do reporting\n",
    "        model.train(False)\n",
    "\n",
    "        running_vloss = 0.0\n",
    "        \n",
    "        voutputs = model(x_test)\n",
    "        vloss = loss_fn(voutputs, y_test.long())\n",
    "        running_vloss += vloss\n",
    "\n",
    "\n",
    "        # for i, vdata in enumerate(test_dataloader):\n",
    "        #     vinputs, vlabels = vdata\n",
    "        #     voutputs = model(vinputs)\n",
    "        #     vloss = loss_fn(voutputs, vlabels.long())\n",
    "        #     running_vloss += vloss\n",
    "        avg_vloss = running_vloss\n",
    "        # avg_vloss = running_vloss / (i + 1)\n",
    "        print('LOSS train {} valid {}'.format(avg_loss, avg_vloss))\n",
    "        print('Propotion: {}'.format(information(voutputs,y_test)))\n",
    "        # # Log the running loss averaged per batch\n",
    "        # # for both training and validation\n",
    "        writer.add_scalars('Training vs. Validation Loss',\n",
    "                        { 'Training' : avg_loss, 'Validation' : avg_vloss },\n",
    "                        epoch_number + 1)\n",
    "        writer.flush()\n",
    "\n",
    "        # Track best performance, and save the model's state\n",
    "        if avg_vloss < best_vloss:\n",
    "            print(\"entra\")\n",
    "            best_vloss = avg_vloss\n",
    "            model_path = 'model_{}_{}'.format(timestamp, epoch_number)\n",
    "            pt.save({\n",
    "            'epoch': epoch,\n",
    "            'model_state_dict': model.state_dict(),\n",
    "            'optimizer_state_dict': optimizer.state_dict(),\n",
    "            'loss': best_vloss,\n",
    "            }, \"myModel\")\n",
    "\n",
    "        epoch_number += 1\n",
    "epoch_number = 0\n",
    "best_vloss = 1_000_000.\n",
    "completeTrain(epoch_number,best_vloss)"
   ]
  },
  {
   "cell_type": "code",
   "execution_count": null,
   "metadata": {},
   "outputs": [
    {
     "name": "stdout",
     "output_type": "stream",
     "text": [
      "EPOCH 1:\n",
      "LOSS train 2.027310085296631 valid 2.03072452545166\n",
      "Propotion: 0.2994\n",
      "entra\n",
      "EPOCH 2:\n",
      "LOSS train 2.0283505439758303 valid 2.029451608657837\n",
      "Propotion: 0.3039\n",
      "entra\n",
      "EPOCH 3:\n",
      "LOSS train 2.024098587036133 valid 2.0321896076202393\n",
      "Propotion: 0.301\n",
      "EPOCH 4:\n",
      "LOSS train 2.0260559797286986 valid 2.031386375427246\n",
      "Propotion: 0.302\n",
      "EPOCH 5:\n",
      "LOSS train 2.0257518768310545 valid 2.029942274093628\n",
      "Propotion: 0.2935\n",
      "EPOCH 6:\n",
      "LOSS train 2.026188540458679 valid 2.0310587882995605\n",
      "Propotion: 0.3034\n",
      "EPOCH 7:\n",
      "LOSS train 2.0230552911758424 valid 2.0235776901245117\n",
      "Propotion: 0.305\n",
      "entra\n",
      "EPOCH 8:\n",
      "LOSS train 2.022961068153381 valid 2.033334493637085\n",
      "Propotion: 0.3038\n",
      "EPOCH 9:\n",
      "LOSS train 2.0235159158706666 valid 2.0250356197357178\n",
      "Propotion: 0.2996\n",
      "EPOCH 10:\n",
      "LOSS train 2.0209303379058836 valid 2.023073434829712\n",
      "Propotion: 0.3003\n",
      "entra\n",
      "EPOCH 11:\n",
      "LOSS train 2.019981288909912 valid 2.024655818939209\n",
      "Propotion: 0.303\n",
      "EPOCH 12:\n",
      "LOSS train 2.019813561439514 valid 2.0201327800750732\n",
      "Propotion: 0.3044\n",
      "entra\n",
      "EPOCH 13:\n",
      "LOSS train 2.016929292678833 valid 2.0199315547943115\n",
      "Propotion: 0.3088\n",
      "entra\n",
      "EPOCH 14:\n",
      "LOSS train 2.015050745010376 valid 2.0170483589172363\n",
      "Propotion: 0.3091\n",
      "entra\n",
      "EPOCH 15:\n",
      "LOSS train 2.0095522165298463 valid 2.0096213817596436\n",
      "Propotion: 0.3201\n",
      "entra\n"
     ]
    }
   ],
   "source": []
  },
  {
   "cell_type": "code",
   "execution_count": null,
   "metadata": {},
   "outputs": [],
   "source": [
    "def loadModel(name):\n",
    "    checkpoint = pt.load(\"myModel\")\n",
    "    model = SurvivorClassifier()\n",
    "    model.load_state_dict(checkpoint[\"model_state_dict\"])\n",
    "    model.train(False)\n",
    "    return model\n"
   ]
  },
  {
   "cell_type": "code",
   "execution_count": null,
   "metadata": {},
   "outputs": [],
   "source": [
    "import pandas as pd\n",
    "import seaborn as sns\n",
    "def calculate_confusion_matrix(predict, real):\n",
    "    df = pd.DataFrame(index=names,columns=names).notnull().astype('uint') # df [c][f]\n",
    "    for i in range(y_test.size().numel()):\n",
    "        df[names[real[i].item()]] [names[predict[i].item()]]+=1\n",
    "    \n",
    "    return df.astype(int)\n",
    "    # P =  Predict \n",
    "    # R =  Real \n",
    "    # [1 .(P=F,R=F) = ,2. (P=F,R=T)],[3. (P=T,R=F),4. (P=T,R=T)]\n",
    "    # [4] [3]\n",
    "    # [2] [1]\n",
    "model = loadModel(\"myModel\")\n",
    "y_test = y_test.to(pt.int32)\n",
    "voutputs = model(x_test)\n",
    "predict = pt.argmax(voutputs, dim=1)\n",
    "df = calculate_confusion_matrix(predict,y_test)"
   ]
  },
  {
   "cell_type": "code",
   "execution_count": null,
   "metadata": {},
   "outputs": [
    {
     "data": {
      "image/png": "[encoded data removed]",
      "text/plain": [
       "<Figure size 432x288 with 2 Axes>"
      ]
     },
     "metadata": {
      "needs_background": "light"
     },
     "output_type": "display_data"
    }
   ],
   "source": [
    "df\n",
    "ax = sns.heatmap(df, annot=True,fmt='g', cmap='Blues')\n",
    "sea = ax.set_xticklabels(ax.get_xticklabels(),rotation = 50)"
   ]
  },
  {
   "cell_type": "code",
   "execution_count": null,
   "metadata": {},
   "outputs": [
    {
     "name": "stderr",
     "output_type": "stream",
     "text": [
      "C:\\Users\\Carlos\\AppData\\Local\\Temp\\ipykernel_38960\\4134715394.py:25: RuntimeWarning: invalid value encountered in long_scalars\n",
      "  prec = tp / (tp+fp)\n"
     ]
    },
    {
     "name": "stdout",
     "output_type": "stream",
     "text": [
      "Acurracy: 0.1829\n"
     ]
    },
    {
     "data": {
      "image/png": "[encoded data removed]",
      "text/plain": [
       "<Figure size 432x288 with 2 Axes>"
      ]
     },
     "metadata": {
      "needs_background": "light"
     },
     "output_type": "display_data"
    }
   ],
   "source": [
    "def getAccurracy(df):\n",
    "    trues = np.diagonal(df)\n",
    "    totalVal = df.values.sum() \n",
    "    return trues.sum() / totalVal\n",
    "\n",
    "\n",
    "def getTP(df,Class):\n",
    "    return df[Class][Class]\n",
    "\n",
    "def getTN(df,Class):\n",
    "    return np.diagonal(df).sum()-df[Class][Class]\n",
    "\n",
    "def getFP(df,Class):\n",
    "    return df[Class:Class].values.sum()-df[Class][Class]\n",
    "\n",
    "def getFN(df,Class):\n",
    "    return df[Class].values.sum()-df[Class][Class]\n",
    "\n",
    "\n",
    "def getConfusionClass(df,Class,keys):\n",
    "    tp = getTP(df,Class)\n",
    "    tn = getTN(df,Class)\n",
    "    fp = getFP(df,Class)\n",
    "    fn = getFN(df,Class)\n",
    "    prec = tp / (tp+fp)\n",
    "    reca = tp / (tp+fn)\n",
    "    return {\n",
    "                keys[0]: prec,\n",
    "                keys[1]:reca,\n",
    "                keys[2]: 2 * prec*reca /(prec+reca),\n",
    "                keys[3]: reca,\n",
    "                keys[4]:tn/(tn+fp)\n",
    "            }\n",
    "\n",
    "keys = [\"Precision\",\"Recall\",\"F1\",\"Sensitivity\",\"Specificity\"]\n",
    "statitics = {}\n",
    "for i in keys:\n",
    "    statitics[i] = []\n",
    "for name in names:\n",
    "    nameStatitics = getConfusionClass(df,name,keys)\n",
    "    for key in statitics:\n",
    "        statitics[key].append(nameStatitics[key])\n",
    "\n",
    "print(\"Acurracy: {}\".format(getAccurracy(df)))\n",
    "stats = pd.DataFrame(statitics,index = names).transpose()\n",
    "ax = sns.heatmap(stats, annot=True, cmap='Blues')\n",
    "sea = ax.set_xticklabels(ax.get_xticklabels(),rotation = 50)"
   ]
  },
  {
   "cell_type": "code",
   "execution_count": null,
   "metadata": {},
   "outputs": [],
   "source": []
  }
 ],
 "metadata": {
  "interpreter": {
   "hash": "f725ec176118a03aef320ba7e9e1619fcadcf0b1f58c334b8b384d7214ca7a14"
  },
  "kernelspec": {
   "display_name": "Python 3.9.12 ('Redes')",
   "language": "python",
   "name": "python3"
  },
  "language_info": {
   "codemirror_mode": {
    "name": "ipython",
    "version": 3
   },
   "file_extension": ".py",
   "mimetype": "text/x-python",
   "name": "python",
   "nbconvert_exporter": "python",
   "pygments_lexer": "ipython3",
   "version": "3.9.12"
  },
  "orig_nbformat": 4
 },
 "nbformat": 4,
 "nbformat_minor": 2
}
