{
 "cells": [
  {
   "cell_type": "code",
   "execution_count": 14,
   "metadata": {},
   "outputs": [],
   "source": [
    "import pandas as pd\n",
    "import numpy as np"
   ]
  },
  {
   "cell_type": "code",
   "execution_count": 15,
   "metadata": {},
   "outputs": [],
   "source": [
    "\n",
    "df =  pd.read_csv('fish_perch.csv',delimiter=\",\",decimal=\".\")"
   ]
  },
  {
   "cell_type": "code",
   "execution_count": 67,
   "metadata": {},
   "outputs": [],
   "source": [
    "def MSE(y_true, y_predict):\n",
    "    return (y_true - y_predict).pow(2).mean()\n",
    "\n",
    "def MAE(y_true, y_predict): \n",
    "    return ((y_true - y_predict)).abs().mean()\n",
    "\n",
    "# R2 = ∑ (yi - f(xi))2 /  ∑ (yi - ∑(f(xj))/n )2\n",
    "# R2 = ∑ (yi - f(xi))2 /  ∑ (yi - f(x)mean )2\n",
    "def score(y_true, y_predict):\n",
    "    SSR = (y_true - y_predict).pow(2) # Sum of squared regression\n",
    "    SST = (y_true - y_predict.mean()).pow(2) # Sum of squared total \n",
    "    return SSR / SST"
   ]
  },
  {
   "cell_type": "code",
   "execution_count": null,
   "metadata": {},
   "outputs": [],
   "source": []
  },
  {
   "cell_type": "code",
   "execution_count": null,
   "metadata": {},
   "outputs": [],
   "source": []
  }
 ],
 "metadata": {
  "interpreter": {
   "hash": "1d3566b98539942dfe42f243b655841af5c597145eebc5638a47e844e4435e63"
  },
  "kernelspec": {
   "display_name": "Python 3.9.7 ('base')",
   "language": "python",
   "name": "python3"
  },
  "language_info": {
   "codemirror_mode": {
    "name": "ipython",
    "version": 3
   },
   "file_extension": ".py",
   "mimetype": "text/x-python",
   "name": "python",
   "nbconvert_exporter": "python",
   "pygments_lexer": "ipython3",
   "version": "3.9.7"
  },
  "orig_nbformat": 4
 },
 "nbformat": 4,
 "nbformat_minor": 2
}
