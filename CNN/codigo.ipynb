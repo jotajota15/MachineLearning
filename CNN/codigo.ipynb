{
 "cells": [
  {
   "cell_type": "markdown",
   "metadata": {},
   "source": [
    "# Datos del codigo:\n",
    "* Estudiante: Juan Jose Valverde Campos\n",
    "* Carnet: B47200\n",
    "* Laboratorio 4 - CNN\n",
    "* Profesor: Pablo Sauma Chacón"
   ]
  },
  {
   "cell_type": "markdown",
   "metadata": {},
   "source": [
    "# Importación de Librerías"
   ]
  },
  {
   "cell_type": "code",
   "execution_count": 4,
   "metadata": {},
   "outputs": [],
   "source": [
    "import matplotlib.pyplot as plt\n",
    "import numpy as np\n",
    "import pickle\n",
    "import torch as pt \n",
    "# from torch.utils.data import dataset as Dataset\n",
    "from torch.utils.data import Dataset\n",
    "from torch.utils.data import DataLoader"
   ]
  },
  {
   "cell_type": "markdown",
   "metadata": {},
   "source": [
    "# Se obtienen los datos con los cuales se va a trabajar"
   ]
  },
  {
   "cell_type": "code",
   "execution_count": 5,
   "metadata": {},
   "outputs": [],
   "source": [
    "# Custom subdirectory to find images\n",
    "DIRECTORY = \"images\"\n",
    "def load_data():\n",
    "    def unpickle(file):\n",
    "        with open(file, 'rb') as fo:\n",
    "            dict = pickle.load(fo, encoding='bytes')\n",
    "        return dict\n",
    "    names = [n.decode('utf-8') for n in unpickle(DIRECTORY+\"/batches.meta\")[b'label_names']]\n",
    "    x_train = None\n",
    "    y_train = []\n",
    "    for i in range(1,6):\n",
    "        data = unpickle(DIRECTORY+\"/data_batch_\"+str(i))\n",
    "        if i>1:\n",
    "            x_train = np.append(x_train, data[b'data'], axis=0)\n",
    "        else:\n",
    "            x_train = data[b'data']\n",
    "        y_train += data[b'labels']\n",
    "    data = unpickle(DIRECTORY+\"/test_batch\")\n",
    "    x_test = data[b'data']\n",
    "    y_test = data[b'labels']\n",
    "    return names,x_train,y_train,x_test,y_test\n",
    "\n",
    "names,x_train,y_train,x_test,y_test = load_data()\n",
    "pt.manual_seed(29)\n",
    "pt.cuda.manual_seed(29)"
   ]
  },
  {
   "cell_type": "markdown",
   "metadata": {},
   "source": [
    "# Se obtiene la visualización de imágenes"
   ]
  },
  {
   "cell_type": "code",
   "execution_count": 6,
   "metadata": {},
   "outputs": [
    {
     "data": {
      "image/png": "[encoded data removed]",
      "text/plain": [
       "<Figure size 432x288 with 1 Axes>"
      ]
     },
     "metadata": {
      "needs_background": "light"
     },
     "output_type": "display_data"
    },
    {
     "name": "stdout",
     "output_type": "stream",
     "text": [
      "automobile\n"
     ]
    }
   ],
   "source": [
    "def plot_tensor(tensor, perm=None):\n",
    "    if perm==None: perm = (1,2,0)\n",
    "    plt.figure()\n",
    "    plt.imshow(tensor.permute(perm).numpy().astype(np.uint8))\n",
    "    plt.show()\n",
    "images = pt.Tensor(x_train)\n",
    "images = images.resize_(50000,3,32,32)\n",
    "plot_tensor(images[5])\n",
    "print(names[y_train[5]])\n"
   ]
  },
  {
   "cell_type": "markdown",
   "metadata": {},
   "source": [
    "# Se crea la clase que va a ser llamada para entrenarse"
   ]
  },
  {
   "cell_type": "code",
   "execution_count": 7,
   "metadata": {},
   "outputs": [],
   "source": [
    "# Se crea una clase que hereda de torch.nn.Module\n",
    "# En el constructor se debe llamar al constructor padre  y crear sus capas\n",
    "# Y se debe crear su método forward que ejecuta el paso de los datos por las neuronas\n",
    "\n",
    "\n",
    "class SurvivorClassifier(pt.nn.Module):\n",
    "\t# def __init__(self, struct, activations,type):\n",
    "\tdef __init__(self):\n",
    "\t\tsuper().__init__()\n",
    "\t\t# self.fc = []\n",
    "\t\t# self.act = []\n",
    "\n",
    "\t\t# self.fc1 = pt.nn.Linear(9, 5)\n",
    "\t\t# self.act1 = pt.nn.ReLU()\n",
    "\t\t# self.fc2 = pt.nn.Linear(5, 1)\n",
    "\t\t# self.act2 = pt.nn.Sigmoid()\n",
    "\t\t\n",
    "\t\t# 3 x 32 x 32 \n",
    "\t\tself.fc1 = pt.nn.Conv2d(3, 5, (5,5),padding= \"same\")\n",
    "\t\tself.act1 = pt.nn.ReLU()\n",
    "\t\tself.pool1 = pt.nn.AvgPool2d(2)\n",
    "\t\t# 5 x 16 x 16 \n",
    "\t\tself.fc2 = pt.nn.Conv2d(5, 7, (3,3),padding= \"same\")\n",
    "\t\tself.act2 = pt.nn.ReLU()\n",
    "\t\tself.pool2 = pt.nn.MaxPool2d(2)\n",
    "\t\t# 7 x 8 x 8\n",
    "\t\tself.fc3 = pt.nn.Conv2d(7, 5, (5,5),padding= \"same\")\n",
    "\t\tself.act3 = pt.nn.ReLU()\n",
    "\t\tself.pool3 = pt.nn.AvgPool2d(2)\n",
    "\t\t# 5 x 4 x 4\n",
    "\t\tself.fc4 = pt.nn.Conv2d(5, 3, (3,3),padding= \"same\")\n",
    "\t\tself.act4 = pt.nn.ReLU()\n",
    "\t\tself.pool4 = pt.nn.MaxPool2d(2)\n",
    "\t\t# 3 x 2 x 2\n",
    "\t\tself.fc5 = pt.nn.Linear(12, 10)\n",
    "\t\tself.act5 = pt.nn.Sigmoid()\n",
    "\n",
    "\n",
    "\n",
    "\n",
    "\n",
    "\tdef forward(self, x):\n",
    "\t\th1 = self.pool1(self.act1(self.fc1(x)))\n",
    "\t\th2 = self.pool2(self.act2(self.fc2(h1)))\n",
    "\t\th3 = self.pool3(self.act3(self.fc3(h2)))\n",
    "\t\th4 = self.pool4(self.act4(self.fc4(h3)))\n",
    "\t\th5 = self.fc5(h4.view(h4.size(0), -1) )# Repasar que se hizo .... (Tiene una entrada enorme....)\n",
    "\t\treturn self.act5( h5 )\n",
    "\t\t# h = self.act1( self.fc1(x) )\n",
    "\t\t# out = self.act2( self.fc2(h) )\n",
    "\t\t# return out\n"
   ]
  },
  {
   "cell_type": "markdown",
   "metadata": {},
   "source": [
    "# Se convierte los datos en tensores y se hace los batch de entrenamiento"
   ]
  },
  {
   "cell_type": "code",
   "execution_count": 8,
   "metadata": {},
   "outputs": [],
   "source": [
    "names,x_train,y_train,x_test,y_test = load_data()\n",
    "x_train = pt.Tensor(x_train)\n",
    "y_train = pt.Tensor(y_train)\n",
    "x_test = pt.Tensor(x_test)\n",
    "y_test = pt.Tensor(y_test)\n",
    "x_train = x_train.resize_(50000,3,32,32)\n",
    "x_test = x_test.resize_(10000,3,32,32)"
   ]
  },
  {
   "cell_type": "code",
   "execution_count": 9,
   "metadata": {},
   "outputs": [],
   "source": [
    "class MyDataset(Dataset):\n",
    "    def __init__(self, x, y):\n",
    "        super(MyDataset, self).__init__()\n",
    "        assert x.shape[0] == y.shape[0] # assuming shape[0] = dataset size\n",
    "        self.x = x\n",
    "        self.y = y\n",
    "\n",
    "\n",
    "    def __len__(self):\n",
    "        return self.y.shape[0]\n",
    "\n",
    "    def __getitem__(self, index):\n",
    "        return self.x[index], self.y[index]\n",
    "# traindata = MyDataset(x_train, y_train)\n",
    "traindata = MyDataset(x_train, y_train)\n",
    "testdata = MyDataset(x_test, y_test)\n",
    "train_dataloader = DataLoader(traindata, batch_size=5000, shuffle=True)\n",
    "test_dataloader = DataLoader(testdata, shuffle=True)"
   ]
  },
  {
   "cell_type": "markdown",
   "metadata": {},
   "source": [
    "Se instancia el modelo y sus parametros"
   ]
  },
  {
   "cell_type": "code",
   "execution_count": 8,
   "metadata": {},
   "outputs": [],
   "source": [
    "# model = SurvivorClassifier()\t# Crea el modelo\n",
    "# loss_fn = pt.nn.MSELoss()\t\t# Función de error a utilizar\n",
    "# optimizer = pt.optim.Adam(model.parameters(), lr=0.01)\t\t# Optimizador\n",
    "\n",
    "\n",
    "# loss_train = []\n",
    "# loss_test = []\n",
    "\n",
    "# for i in range(100):\n",
    "# \ttrain_features, train_labels = next(iter(train_dataloader))\n",
    "# \toptimizer.zero_grad()\t\t\t# Coloca los Δw en 0\n",
    "# \ty_pred = model( train_features) # Predice los valores del conjunto de entrenamiento\n",
    "# \tloss = loss_fn(y_pred.max(1).values, train_labels)\t# Calcula la pérdida\n",
    "# \tloss.backward()\t\t\t\t\t# Calcula el backprogration (Δw) y acumula el error\n",
    "# \toptimizer.step()\t\t\t\t# Aplica los Δw acumulados y avanza un paso la iter. \n",
    "# \twith pt.no_grad():\t\t\t# Apaga el cálculo de gradientes\n",
    "# \t\tloss2 = loss_fn( model(x_test).max(1).values, y_test)\n",
    "# \tloss_train.append(loss.item())\n",
    "# \tloss_test.append(loss2.item())\n",
    "# \tif(i%10 == 0):\n",
    "# \t\tprint(i)\n",
    "# plt.plot(loss_train)\n",
    "# plt.plot(loss_test)\n",
    "# plt.show()"
   ]
  },
  {
   "cell_type": "code",
   "execution_count": 14,
   "metadata": {},
   "outputs": [],
   "source": [
    "def train_one_epoch(epoch_index):\n",
    "    running_loss = 0.\n",
    "    last_loss = 0.\n",
    "\n",
    "    # Here, we use enumerate(training_loader) instead of\n",
    "    # iter(training_loader) so that we can track the batch\n",
    "    # index and do some intra-epoch reporting\n",
    "    for i, data in enumerate(train_dataloader):\n",
    "        # Every data instance is an input + label pair\n",
    "        inputs, labels = data\n",
    "\n",
    "        # Zero your gradients for every batch!\n",
    "        optimizer.zero_grad()\n",
    "\n",
    "        # Make predictions for this batch\n",
    "        outputs = model(inputs)\n",
    "\n",
    "        # Compute the loss and its gradients\n",
    "        loss = loss_fn(outputs, labels.long())\n",
    "        loss.backward()\n",
    "\n",
    "        # Adjust learning weights\n",
    "        optimizer.step()\n",
    "\n",
    "        # Gather data and report\n",
    "        running_loss += loss.item()\n",
    "        # if i % 1000 == 999:\n",
    "        #     last_loss = running_loss / 1000 # loss per batch\n",
    "        if i % 10 == 9:\n",
    "            last_loss = running_loss / 10 # loss per batch\n",
    "            tb_x = epoch_index * len(train_dataloader) + i + 1\n",
    "            running_loss = 0.\n",
    "    return last_loss\n",
    "    \n",
    "def information(voutputs,y_test):\n",
    "    answer = pt.argmax(voutputs, dim=1)\n",
    "    correct = 0\n",
    "    for i in range(y_test.size().numel()):\n",
    "        if answer[i]==y_test[i]:\n",
    "            correct +=1\n",
    "    return correct / y_test.size().numel()"
   ]
  },
  {
   "cell_type": "code",
   "execution_count": null,
   "metadata": {},
   "outputs": [],
   "source": [
    "# def train_one_epoch(epoch_index, tb_writer):\n",
    "#     running_loss = 0.\n",
    "#     last_loss = 0.\n",
    "\n",
    "#     # Here, we use enumerate(training_loader) instead of\n",
    "#     # iter(training_loader) so that we can track the batch\n",
    "#     # index and do some intra-epoch reporting\n",
    "#     for i, data in enumerate(train_dataloader):\n",
    "#         # Every data instance is an input + label pair\n",
    "#         inputs, labels = data\n",
    "\n",
    "#         # Zero your gradients for every batch!\n",
    "#         optimizer.zero_grad()\n",
    "\n",
    "#         # Make predictions for this batch\n",
    "#         outputs = model(inputs)\n",
    "\n",
    "#         # Compute the loss and its gradients\n",
    "#         loss = loss_fn(outputs, labels.long())\n",
    "#         loss.backward()\n",
    "\n",
    "#         # Adjust learning weights\n",
    "#         optimizer.step()\n",
    "\n",
    "#         # Gather data and report\n",
    "#         running_loss += loss.item()\n",
    "#         # if i % 1000 == 999:\n",
    "#         #     last_loss = running_loss / 1000 # loss per batch\n",
    "#         if i % 10 == 9:\n",
    "#             last_loss = running_loss / 10 # loss per batch\n",
    "#             # print('  batch {} loss: {}'.format(i + 1, last_loss))\n",
    "#             tb_x = epoch_index * len(train_dataloader) + i + 1\n",
    "#             # tb_writer('Loss/train', last_loss, tb_x)\n",
    "#             tb_writer.add_scalar('Loss/train', last_loss, tb_x)\n",
    "#             running_loss = 0.\n",
    "\n",
    "#     return last_loss\n",
    "# def information(voutputs,y_test):\n",
    "#     answer = pt.argmax(voutputs, dim=1)\n",
    "#     correct = 0\n",
    "#     for i in range(y_test.size().numel()):\n",
    "#         if answer[i]==y_test[i]:\n",
    "#             correct +=1\n",
    "#     return correct / y_test.size().numel()"
   ]
  },
  {
   "cell_type": "code",
   "execution_count": 15,
   "metadata": {},
   "outputs": [
    {
     "name": "stdout",
     "output_type": "stream",
     "text": [
      "EPOCH 1:\n",
      "LOSS train 2.307378077507019 valid 2.303175926208496\n",
      "Propotion: 0.1\n",
      "entra\n",
      "EPOCH 2:\n",
      "LOSS train 2.299864387512207 valid 2.2843215465545654\n",
      "Propotion: 0.1001\n",
      "entra\n",
      "EPOCH 3:\n",
      "LOSS train 2.2492724418640138 valid 2.210629463195801\n",
      "Propotion: 0.149\n",
      "entra\n",
      "EPOCH 4:\n",
      "LOSS train 2.1972025632858276 valid 2.17624568939209\n",
      "Propotion: 0.1684\n",
      "entra\n",
      "EPOCH 5:\n",
      "LOSS train 2.1624134302139284 valid 2.1474502086639404\n",
      "Propotion: 0.2142\n",
      "entra\n",
      "EPOCH 6:\n",
      "LOSS train 2.1192856550216677 valid 2.1002461910247803\n",
      "Propotion: 0.2171\n",
      "entra\n",
      "EPOCH 7:\n",
      "LOSS train 2.080335998535156 valid 2.0826637744903564\n",
      "Propotion: 0.227\n",
      "entra\n",
      "EPOCH 8:\n",
      "LOSS train 2.068141460418701 valid 2.0618362426757812\n",
      "Propotion: 0.234\n",
      "entra\n",
      "EPOCH 9:\n",
      "LOSS train 2.057627463340759 valid 2.054023504257202\n",
      "Propotion: 0.2459\n",
      "entra\n",
      "EPOCH 10:\n",
      "LOSS train 2.052935838699341 valid 2.0485870838165283\n",
      "Propotion: 0.2464\n",
      "entra\n",
      "EPOCH 11:\n",
      "LOSS train 2.0477769136428834 valid 2.051215648651123\n",
      "Propotion: 0.2483\n",
      "EPOCH 12:\n",
      "LOSS train 2.0468175649642943 valid 2.038961172103882\n",
      "Propotion: 0.2549\n",
      "entra\n",
      "EPOCH 13:\n",
      "LOSS train 2.04303457736969 valid 2.0427498817443848\n",
      "Propotion: 0.2597\n",
      "EPOCH 14:\n",
      "LOSS train 2.0374722480773926 valid 2.045238494873047\n",
      "Propotion: 0.2618\n",
      "EPOCH 15:\n",
      "LOSS train 2.0364129543304443 valid 2.019608497619629\n",
      "Propotion: 0.2878\n",
      "entra\n"
     ]
    },
    {
     "data": {
      "image/png": "[encoded data removed]",
      "text/plain": [
       "<Figure size 432x288 with 1 Axes>"
      ]
     },
     "metadata": {
      "needs_background": "light"
     },
     "output_type": "display_data"
    }
   ],
   "source": [
    "model = SurvivorClassifier()\t# Crea el modelo\n",
    "loss_fn = pt.nn.CrossEntropyLoss()\t\t# Función de error a utilizar torch.\n",
    "optimizer = pt.optim.Adam(model.parameters(), lr=0.01)\t\t# Optimizador\n",
    "\n",
    "loss_train = []\n",
    "loss_test = []\n",
    "\n",
    "EPOCHS = 15\n",
    "\n",
    "\n",
    "def completeTrain(epoch_number,best_vloss):\n",
    "    for epoch in range(EPOCHS):\n",
    "        print('EPOCH {}:'.format(epoch_number + 1))\n",
    "\n",
    "        # Make sure gradient tracking is on, and do a pass over the data\n",
    "        model.train(True)\n",
    "        avg_loss = train_one_epoch(epoch_number)\n",
    "        # We don't need gradients on to do reporting\n",
    "        model.train(False)\n",
    "\n",
    "        running_vloss = 0.0\n",
    "        \n",
    "        voutputs = model(x_test)\n",
    "        vloss = loss_fn(voutputs, y_test.long())\n",
    "        running_vloss += vloss\n",
    "\n",
    "        avg_vloss = running_vloss\n",
    "\n",
    "        loss_train.append(avg_loss)\n",
    "        loss_test.append(vloss.item())\n",
    "\n",
    "        print('LOSS train {} valid {}'.format(avg_loss, avg_vloss))\n",
    "        print('Propotion: {}'.format(information(voutputs,y_test)))\n",
    "\n",
    "        # Track best performance, and save the model's state\n",
    "        if avg_vloss < best_vloss:\n",
    "            print(\"entra\")\n",
    "            best_vloss = avg_vloss\n",
    "            pt.save({\n",
    "            'epoch': epoch,\n",
    "            'model_state_dict': model.state_dict(),\n",
    "            'optimizer_state_dict': optimizer.state_dict(),\n",
    "            'loss': best_vloss,\n",
    "            }, \"myModel\")\n",
    "\n",
    "        epoch_number += 1\n",
    "epoch_number = 0\n",
    "best_vloss = 1_000_000.\n",
    "completeTrain(epoch_number,best_vloss)\n",
    "\n",
    "plt.plot(loss_train)\n",
    "plt.plot(loss_test)\n",
    "plt.show()"
   ]
  },
  {
   "cell_type": "code",
   "execution_count": null,
   "metadata": {},
   "outputs": [
    {
     "name": "stdout",
     "output_type": "stream",
     "text": [
      "EPOCH 1:\n",
      "LOSS train 2.325866866111755 valid 2.303030014038086\n",
      "Propotion: 0.1001\n",
      "entra\n",
      "EPOCH 2:\n",
      "LOSS train 2.3028953790664675 valid 2.3023462295532227\n",
      "Propotion: 0.1032\n",
      "entra\n",
      "EPOCH 3:\n",
      "LOSS train 2.2962512493133547 valid 2.2784247398376465\n",
      "Propotion: 0.1091\n",
      "entra\n",
      "EPOCH 4:\n",
      "LOSS train 2.2687014818191527 valid 2.2511937618255615\n",
      "Propotion: 0.184\n",
      "entra\n",
      "EPOCH 5:\n",
      "LOSS train 2.2340232133865356 valid 2.2140378952026367\n",
      "Propotion: 0.186\n",
      "entra\n"
     ]
    }
   ],
   "source": [
    "# Initializing in a separate cell so we can easily add more epochs to the same run\n",
    "from datetime import datetime\n",
    "from torch.utils.tensorboard import SummaryWriter\n",
    "model = SurvivorClassifier()\t# Crea el modelo\n",
    "loss_fn = pt.nn.CrossEntropyLoss()\t\t# Función de error a utilizar torch.\n",
    "optimizer = pt.optim.Adam(model.parameters(), lr=0.01)\t\t# Optimizador\n",
    "\n",
    "timestamp = datetime.now().strftime('%Y%m%d_%H%M%S')\n",
    "writer = SummaryWriter('runs/fashion_trainer_{}'.format(timestamp))\n",
    "tensorBoard = False\n",
    "\n",
    "\n",
    "EPOCHS = 5\n",
    "\n",
    "\n",
    "def completeTrain(epoch_number,best_vloss):\n",
    "    for epoch in range(EPOCHS):\n",
    "        print('EPOCH {}:'.format(epoch_number + 1))\n",
    "\n",
    "        # Make sure gradient tracking is on, and do a pass over the data\n",
    "        model.train(True)\n",
    "        avg_loss = train_one_epoch(epoch_number, writer)\n",
    "        # We don't need gradients on to do reporting\n",
    "        model.train(False)\n",
    "\n",
    "        running_vloss = 0.0\n",
    "        \n",
    "        voutputs = model(x_test)\n",
    "        vloss = loss_fn(voutputs, y_test.long())\n",
    "        running_vloss += vloss\n",
    "\n",
    "\n",
    "        # for i, vdata in enumerate(test_dataloader):\n",
    "        #     vinputs, vlabels = vdata\n",
    "        #     voutputs = model(vinputs)\n",
    "        #     vloss = loss_fn(voutputs, vlabels.long())\n",
    "        #     running_vloss += vloss\n",
    "        avg_vloss = running_vloss\n",
    "        # avg_vloss = running_vloss / (i + 1)\n",
    "        print('LOSS train {} valid {}'.format(avg_loss, avg_vloss))\n",
    "        print('Propotion: {}'.format(information(voutputs,y_test)))\n",
    "        # # Log the running loss averaged per batch\n",
    "        # # for both training and validation\n",
    "        writer.add_scalars('Training vs. Validation Loss',\n",
    "                        { 'Training' : avg_loss, 'Validation' : avg_vloss },\n",
    "                        epoch_number + 1)\n",
    "        writer.flush()\n",
    "\n",
    "        # Track best performance, and save the model's state\n",
    "        if avg_vloss < best_vloss:\n",
    "            print(\"entra\")\n",
    "            best_vloss = avg_vloss\n",
    "            model_path = 'model_{}_{}'.format(timestamp, epoch_number)\n",
    "            pt.save({\n",
    "            'epoch': epoch,\n",
    "            'model_state_dict': model.state_dict(),\n",
    "            'optimizer_state_dict': optimizer.state_dict(),\n",
    "            'loss': best_vloss,\n",
    "            }, \"myModel\")\n",
    "\n",
    "        epoch_number += 1\n",
    "epoch_number = 0\n",
    "best_vloss = 1_000_000.\n",
    "completeTrain(epoch_number,best_vloss)"
   ]
  },
  {
   "cell_type": "code",
   "execution_count": 67,
   "metadata": {},
   "outputs": [
    {
     "name": "stdout",
     "output_type": "stream",
     "text": [
      "EPOCH 1:\n",
      "LOSS train 2.027310085296631 valid 2.03072452545166\n",
      "Propotion: 0.2994\n",
      "entra\n",
      "EPOCH 2:\n",
      "LOSS train 2.0283505439758303 valid 2.029451608657837\n",
      "Propotion: 0.3039\n",
      "entra\n",
      "EPOCH 3:\n",
      "LOSS train 2.024098587036133 valid 2.0321896076202393\n",
      "Propotion: 0.301\n",
      "EPOCH 4:\n",
      "LOSS train 2.0260559797286986 valid 2.031386375427246\n",
      "Propotion: 0.302\n",
      "EPOCH 5:\n",
      "LOSS train 2.0257518768310545 valid 2.029942274093628\n",
      "Propotion: 0.2935\n",
      "EPOCH 6:\n",
      "LOSS train 2.026188540458679 valid 2.0310587882995605\n",
      "Propotion: 0.3034\n",
      "EPOCH 7:\n",
      "LOSS train 2.0230552911758424 valid 2.0235776901245117\n",
      "Propotion: 0.305\n",
      "entra\n",
      "EPOCH 8:\n",
      "LOSS train 2.022961068153381 valid 2.033334493637085\n",
      "Propotion: 0.3038\n",
      "EPOCH 9:\n",
      "LOSS train 2.0235159158706666 valid 2.0250356197357178\n",
      "Propotion: 0.2996\n",
      "EPOCH 10:\n",
      "LOSS train 2.0209303379058836 valid 2.023073434829712\n",
      "Propotion: 0.3003\n",
      "entra\n",
      "EPOCH 11:\n",
      "LOSS train 2.019981288909912 valid 2.024655818939209\n",
      "Propotion: 0.303\n",
      "EPOCH 12:\n",
      "LOSS train 2.019813561439514 valid 2.0201327800750732\n",
      "Propotion: 0.3044\n",
      "entra\n",
      "EPOCH 13:\n",
      "LOSS train 2.016929292678833 valid 2.0199315547943115\n",
      "Propotion: 0.3088\n",
      "entra\n",
      "EPOCH 14:\n",
      "LOSS train 2.015050745010376 valid 2.0170483589172363\n",
      "Propotion: 0.3091\n",
      "entra\n",
      "EPOCH 15:\n",
      "LOSS train 2.0095522165298463 valid 2.0096213817596436\n",
      "Propotion: 0.3201\n",
      "entra\n"
     ]
    }
   ],
   "source": [
    "checkpoint = pt.load(\"myModel\")\n",
    "model = SurvivorClassifier()\n",
    "model.load_state_dict(checkpoint[\"model_state_dict\"])\n",
    "optimizer = pt.optim.Adam(model.parameters(), lr=0.01)\t\t# Optimizador\n",
    "optimizer.load_state_dict(checkpoint[\"optimizer_state_dict\"])\n",
    "completeTrain(epoch_number,best_vloss)"
   ]
  },
  {
   "cell_type": "code",
   "execution_count": 12,
   "metadata": {},
   "outputs": [
    {
     "ename": "RuntimeError",
     "evalue": "Error(s) in loading state_dict for SurvivorClassifier:\n\tMissing key(s) in state_dict: \"fc4.weight\", \"fc4.bias\". \n\tsize mismatch for fc3.weight: copying a param with shape torch.Size([10, 108]) from checkpoint, the shape in current model is torch.Size([5, 3, 3, 3]).\n\tsize mismatch for fc3.bias: copying a param with shape torch.Size([10]) from checkpoint, the shape in current model is torch.Size([5]).",
     "output_type": "error",
     "traceback": [
      "\u001b[1;31m---------------------------------------------------------------------------\u001b[0m",
      "\u001b[1;31mRuntimeError\u001b[0m                              Traceback (most recent call last)",
      "\u001b[1;32mc:\\Users\\Carlos\\Desktop\\University\\Semestre Actual\\MachineLearning\\CNN\\codigo.ipynb Cell 18'\u001b[0m in \u001b[0;36m<cell line: 3>\u001b[1;34m()\u001b[0m\n\u001b[0;32m      <a href='vscode-notebook-cell:/c%3A/Users/Carlos/Desktop/University/Semestre%20Actual/MachineLearning/CNN/codigo.ipynb#ch0000017?line=0'>1</a>\u001b[0m checkpoint \u001b[39m=\u001b[39m pt\u001b[39m.\u001b[39mload(\u001b[39m\"\u001b[39m\u001b[39mtrueModel\u001b[39m\u001b[39m\"\u001b[39m)\n\u001b[0;32m      <a href='vscode-notebook-cell:/c%3A/Users/Carlos/Desktop/University/Semestre%20Actual/MachineLearning/CNN/codigo.ipynb#ch0000017?line=1'>2</a>\u001b[0m model \u001b[39m=\u001b[39m SurvivorClassifier()\n\u001b[1;32m----> <a href='vscode-notebook-cell:/c%3A/Users/Carlos/Desktop/University/Semestre%20Actual/MachineLearning/CNN/codigo.ipynb#ch0000017?line=2'>3</a>\u001b[0m model\u001b[39m.\u001b[39;49mload_state_dict(checkpoint[\u001b[39m\"\u001b[39;49m\u001b[39mmodel_state_dict\u001b[39;49m\u001b[39m\"\u001b[39;49m])\n\u001b[0;32m      <a href='vscode-notebook-cell:/c%3A/Users/Carlos/Desktop/University/Semestre%20Actual/MachineLearning/CNN/codigo.ipynb#ch0000017?line=3'>4</a>\u001b[0m model\u001b[39m.\u001b[39mtrain(\u001b[39mFalse\u001b[39;00m)\n\u001b[0;32m      <a href='vscode-notebook-cell:/c%3A/Users/Carlos/Desktop/University/Semestre%20Actual/MachineLearning/CNN/codigo.ipynb#ch0000017?line=4'>5</a>\u001b[0m voutputs \u001b[39m=\u001b[39m model(x_test)\n",
      "File \u001b[1;32mc:\\Users\\Carlos\\anaconda3\\envs\\Redes\\lib\\site-packages\\torch\\nn\\modules\\module.py:1497\u001b[0m, in \u001b[0;36mModule.load_state_dict\u001b[1;34m(self, state_dict, strict)\u001b[0m\n\u001b[0;32m   <a href='file:///c%3A/Users/Carlos/anaconda3/envs/Redes/lib/site-packages/torch/nn/modules/module.py?line=1491'>1492</a>\u001b[0m         error_msgs\u001b[39m.\u001b[39minsert(\n\u001b[0;32m   <a href='file:///c%3A/Users/Carlos/anaconda3/envs/Redes/lib/site-packages/torch/nn/modules/module.py?line=1492'>1493</a>\u001b[0m             \u001b[39m0\u001b[39m, \u001b[39m'\u001b[39m\u001b[39mMissing key(s) in state_dict: \u001b[39m\u001b[39m{}\u001b[39;00m\u001b[39m. \u001b[39m\u001b[39m'\u001b[39m\u001b[39m.\u001b[39mformat(\n\u001b[0;32m   <a href='file:///c%3A/Users/Carlos/anaconda3/envs/Redes/lib/site-packages/torch/nn/modules/module.py?line=1493'>1494</a>\u001b[0m                 \u001b[39m'\u001b[39m\u001b[39m, \u001b[39m\u001b[39m'\u001b[39m\u001b[39m.\u001b[39mjoin(\u001b[39m'\u001b[39m\u001b[39m\"\u001b[39m\u001b[39m{}\u001b[39;00m\u001b[39m\"\u001b[39m\u001b[39m'\u001b[39m\u001b[39m.\u001b[39mformat(k) \u001b[39mfor\u001b[39;00m k \u001b[39min\u001b[39;00m missing_keys)))\n\u001b[0;32m   <a href='file:///c%3A/Users/Carlos/anaconda3/envs/Redes/lib/site-packages/torch/nn/modules/module.py?line=1495'>1496</a>\u001b[0m \u001b[39mif\u001b[39;00m \u001b[39mlen\u001b[39m(error_msgs) \u001b[39m>\u001b[39m \u001b[39m0\u001b[39m:\n\u001b[1;32m-> <a href='file:///c%3A/Users/Carlos/anaconda3/envs/Redes/lib/site-packages/torch/nn/modules/module.py?line=1496'>1497</a>\u001b[0m     \u001b[39mraise\u001b[39;00m \u001b[39mRuntimeError\u001b[39;00m(\u001b[39m'\u001b[39m\u001b[39mError(s) in loading state_dict for \u001b[39m\u001b[39m{}\u001b[39;00m\u001b[39m:\u001b[39m\u001b[39m\\n\u001b[39;00m\u001b[39m\\t\u001b[39;00m\u001b[39m{}\u001b[39;00m\u001b[39m'\u001b[39m\u001b[39m.\u001b[39mformat(\n\u001b[0;32m   <a href='file:///c%3A/Users/Carlos/anaconda3/envs/Redes/lib/site-packages/torch/nn/modules/module.py?line=1497'>1498</a>\u001b[0m                        \u001b[39mself\u001b[39m\u001b[39m.\u001b[39m\u001b[39m__class__\u001b[39m\u001b[39m.\u001b[39m\u001b[39m__name__\u001b[39m, \u001b[39m\"\u001b[39m\u001b[39m\\n\u001b[39;00m\u001b[39m\\t\u001b[39;00m\u001b[39m\"\u001b[39m\u001b[39m.\u001b[39mjoin(error_msgs)))\n\u001b[0;32m   <a href='file:///c%3A/Users/Carlos/anaconda3/envs/Redes/lib/site-packages/torch/nn/modules/module.py?line=1498'>1499</a>\u001b[0m \u001b[39mreturn\u001b[39;00m _IncompatibleKeys(missing_keys, unexpected_keys)\n",
      "\u001b[1;31mRuntimeError\u001b[0m: Error(s) in loading state_dict for SurvivorClassifier:\n\tMissing key(s) in state_dict: \"fc4.weight\", \"fc4.bias\". \n\tsize mismatch for fc3.weight: copying a param with shape torch.Size([10, 108]) from checkpoint, the shape in current model is torch.Size([5, 3, 3, 3]).\n\tsize mismatch for fc3.bias: copying a param with shape torch.Size([10]) from checkpoint, the shape in current model is torch.Size([5])."
     ]
    }
   ],
   "source": [
    "checkpoint = pt.load(\"trueModel\")\n",
    "model = SurvivorClassifier()\n",
    "model.load_state_dict(checkpoint[\"model_state_dict\"])\n",
    "model.train(False)\n",
    "voutputs = model(x_test)\n",
    "vloss = loss_fn(voutputs, y_test.long())\n",
    "answers = pt.argmax(voutputs, dim=1)"
   ]
  },
  {
   "cell_type": "code",
   "execution_count": 18,
   "metadata": {},
   "outputs": [],
   "source": [
    "import pandas as pd\n",
    "import seaborn as sns\n",
    "def calculate_confusion_matrix(predict, real):\n",
    "    df = pd.DataFrame(index=names,columns=names).notnull().astype('uint') # df [c][f]\n",
    "    for i in range(y_test.size().numel()):\n",
    "        df[names[real[i].item()]] [names[predict[i].item()]]+=1\n",
    "    \n",
    "    return df.astype(int)\n",
    "    # P =  Predict \n",
    "    # R =  Real \n",
    "    # [1 .(P=F,R=F) = ,2. (P=F,R=T)],[3. (P=T,R=F),4. (P=T,R=T)]\n",
    "    # [4] [3]\n",
    "    # [2] [1]\n",
    "y_test = y_test.to(pt.int32)\n",
    "voutputs = model(x_test)\n",
    "predict = pt.argmax(voutputs, dim=1)\n",
    "df = calculate_confusion_matrix(predict,y_test)"
   ]
  },
  {
   "cell_type": "code",
   "execution_count": 19,
   "metadata": {},
   "outputs": [
    {
     "data": {
      "image/png": "[encoded data removed]",
      "text/plain": [
       "<Figure size 432x288 with 2 Axes>"
      ]
     },
     "metadata": {
      "needs_background": "light"
     },
     "output_type": "display_data"
    }
   ],
   "source": [
    "df\n",
    "ax = sns.heatmap(df, annot=True,fmt='g', cmap='Blues')\n",
    "sea = ax.set_xticklabels(ax.get_xticklabels(),rotation = 50)"
   ]
  },
  {
   "cell_type": "code",
   "execution_count": 50,
   "metadata": {},
   "outputs": [
    {
     "name": "stdout",
     "output_type": "stream",
     "text": [
      "Acurracy: 0.2713\n"
     ]
    },
    {
     "data": {
      "image/png": "[encoded data removed]",
      "text/plain": [
       "<Figure size 432x288 with 2 Axes>"
      ]
     },
     "metadata": {
      "needs_background": "light"
     },
     "output_type": "display_data"
    }
   ],
   "source": [
    "def getAccurracy(df):\n",
    "    trues = np.diagonal(df)\n",
    "    totalVal = df.values.sum() \n",
    "    return trues.sum() / totalVal\n",
    "\n",
    "\n",
    "def getTP(df,Class):\n",
    "    return df[Class][Class]\n",
    "\n",
    "def getTN(df,Class):\n",
    "    return np.diagonal(df).sum()-df[Class][Class]\n",
    "\n",
    "def getFP(df,Class):\n",
    "    return df[Class:Class].values.sum()-df[Class][Class]\n",
    "\n",
    "def getFN(df,Class):\n",
    "    return df[Class].values.sum()-df[Class][Class]\n",
    "\n",
    "\n",
    "def getConfusionClass(df,Class,keys):\n",
    "    tp = getTP(df,Class)\n",
    "    tn = getTN(df,Class)\n",
    "    fp = getFP(df,Class)\n",
    "    fn = getFN(df,Class)\n",
    "    prec = tp / (tp+fp)\n",
    "    reca = tp / (tp+fn)\n",
    "    return {\n",
    "                keys[0]: prec,\n",
    "                keys[1]:reca,\n",
    "                keys[2]: 2 * prec*reca /(prec+reca),\n",
    "                keys[3]: reca,\n",
    "                keys[4]:tn/(tn+fp)\n",
    "            }\n",
    "\n",
    "keys = [\"Precision\",\"Recall\",\"F1\",\"Sensitivity\",\"Specificity\"]\n",
    "statitics = {}\n",
    "for i in keys:\n",
    "    statitics[i] = []\n",
    "for name in names:\n",
    "    nameStatitics = getConfusionClass(df,name,keys)\n",
    "    for key in statitics:\n",
    "        statitics[key].append(nameStatitics[key])\n",
    "\n",
    "print(\"Acurracy: {}\".format(getAccurracy(df)))\n",
    "stats = pd.DataFrame(statitics,index = names).transpose()\n",
    "ax = sns.heatmap(stats, annot=True, cmap='Blues')\n",
    "sea = ax.set_xticklabels(ax.get_xticklabels(),rotation = 50)"
   ]
  },
  {
   "cell_type": "code",
   "execution_count": null,
   "metadata": {},
   "outputs": [],
   "source": []
  }
 ],
 "metadata": {
  "interpreter": {
   "hash": "f725ec176118a03aef320ba7e9e1619fcadcf0b1f58c334b8b384d7214ca7a14"
  },
  "kernelspec": {
   "display_name": "Python 3.9.12 ('Redes')",
   "language": "python",
   "name": "python3"
  },
  "language_info": {
   "codemirror_mode": {
    "name": "ipython",
    "version": 3
   },
   "file_extension": ".py",
   "mimetype": "text/x-python",
   "name": "python",
   "nbconvert_exporter": "python",
   "pygments_lexer": "ipython3",
   "version": "3.9.12"
  },
  "orig_nbformat": 4
 },
 "nbformat": 4,
 "nbformat_minor": 2
}
