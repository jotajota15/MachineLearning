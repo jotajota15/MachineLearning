{
 "cells": [
  {
   "cell_type": "code",
   "execution_count": 4,
   "metadata": {},
   "outputs": [
    {
     "data": {
      "text/plain": [
       "1"
      ]
     },
     "execution_count": 4,
     "metadata": {},
     "output_type": "execute_result"
    }
   ],
   "source": [
    "# Imports\n",
    "from ML import myPCA \n",
    "import pandas as pd\n",
    "import matplotlib.pyplot as plt\n",
    "import numpy as np\n"
   ]
  },
  {
   "cell_type": "code",
   "execution_count": 6,
   "metadata": {},
   "outputs": [
    {
     "name": "stdout",
     "output_type": "stream",
     "text": [
      "Tamaño de datos:\n",
      " (1309, 12)\n",
      "Tipos de Columnas:\n",
      " PassengerId      int64\n",
      "Survived         int64\n",
      "Pclass           int64\n",
      "Name            object\n",
      "Sex             object\n",
      "Age            float64\n",
      "SibSp            int64\n",
      "Parch            int64\n",
      "Ticket          object\n",
      "Fare           float64\n",
      "Cabin           object\n",
      "Embarked        object\n",
      "dtype: object\n",
      "Columnas con NA:\n",
      " Index(['Age', 'Fare', 'Cabin', 'Embarked'], dtype='object')\n",
      "Cantidad de NA por columna:\n",
      " Age          263\n",
      "Fare           1\n",
      "Cabin       1014\n",
      "Embarked       2\n",
      "dtype: int64\n",
      "Se borran en total 266 registros\n"
     ]
    }
   ],
   "source": [
    "'''\n",
    "Part 1. Exercise\n",
    "\n",
    "Elimine las columnas que considere que no son relevantes para su análisis y utilice documentación interna para justificar su razonamiento. \n",
    "Luego con las columnas restantes elimine cualquier entrada que posea datos faltantes.\n",
    "Utilice one-hot encoding para convertir las variables categóricas en variables numéricas.\n",
    "'''\n",
    "def chargeData():\n",
    "    return pd.read_csv('titanic.csv',delimiter=\",\",decimal=\".\")\n",
    "\n",
    "def inspectData(df):\n",
    "    print(\"Tamaño de datos:\\n\",df.shape)\n",
    "    print(\"Tipos de Columnas:\\n\",df.dtypes)\n",
    "    NaNColumns = df.columns[df.isna().any()]\n",
    "    print(\"Columnas con NA:\\n\",NaNColumns)\n",
    "    print(\"Cantidad de NA por columna:\\n\",df[NaNColumns].isnull().sum(axis = 0))\n",
    "\n",
    "def deleteData(df):\n",
    "    '''\n",
    "    Columns erased:\n",
    "    1. PassengerId: Is is just data to recognize a passenger and not make any effect in the survival\n",
    "    2. Name: Is is just data to recognize a passenger and not make any effect in the survival\n",
    "    3. Ticket: Is is just data to recognize a passenger and not make any effect in the survival\n",
    "    3. Cabin: Have values with more than a 75% of data with NaN\n",
    "    '''\n",
    "    df.drop(columns = [\"PassengerId\" ,\"Name\",\"Cabin\",\"Ticket\"],inplace=True)\n",
    "    before = df.shape\n",
    "    '''\n",
    "    Erase NA rows\n",
    "    '''\n",
    "    df.dropna(inplace= True)\n",
    "    print(\"Se borran en total\",(before[0]-df.shape[0]),\"registros\")\n",
    "    \n",
    "    return df\n",
    "\n",
    "\n",
    "def getData():\n",
    "    # Upload and first check\n",
    "    # Implemente un método que cargue el set de datos a memoria (puede utilizar la biblioteca pandas para esto).\n",
    "    df = chargeData()\n",
    "    inspectData(df)\n",
    "    df = deleteData(df)\n",
    "    # Se crea el one-hot encoding\n",
    "    df = pd.get_dummies(df,columns=categoricalColumns)\n",
    "    return df\n",
    "\n",
    "df = getData()\n",
    "\n",
    "    \n"
   ]
  },
  {
   "cell_type": "code",
   "execution_count": null,
   "metadata": {},
   "outputs": [],
   "source": [
    "'''\n",
    "Part 2. Conversion dataframe to numpy2D\n",
    "'''\n",
    "matrixArray = np.transpose(df.to_numpy())"
   ]
  },
  {
   "cell_type": "code",
   "execution_count": null,
   "metadata": {},
   "outputs": [],
   "source": [
    "'''\n",
    "Part 3.\n",
    "Class myPCA\n",
    "'''\n",
    "from ML import myPCA as my\n",
    "\n"
   ]
  },
  {
   "cell_type": "code",
   "execution_count": null,
   "metadata": {},
   "outputs": [],
   "source": [
    "numericColumns = ['Age','SibSp','Parch','Fare']\n",
    "categoricalColumns = ['Survived','Pclass','Sex','Embarked']\n",
    "numericos = df.loc[:,numericColumns]\n",
    "categoricos = df.loc[:,categoricalColumns]\n",
    "print(\"Descripcion:\\n\",numericos.describe())\n",
    "\n",
    "for column in categoricos.columns:\n",
    "\tdatos = categoricos.loc[:,column]\n",
    "\tcategorias = datos.unique()\n",
    "\tmapeo = {}\n",
    "\tfor i in range(len(categorias)):\n",
    "\t\tmapeo[categorias[i]] = i\n",
    "\tplt.hist(datos.map(mapeo),bins=len(categorias))\n",
    "\tplt.title(\"Distribucion de los datos de \"+column)\n",
    "\tplt.xlabel(\"Tipo\")\n",
    "\tplt.ylabel(\"Cantidad\")\n",
    "\tplt.xticks(range(len(categorias)),categorias)\n",
    "\tplt.show()\n",
    "# plt.hist(numericos['SibSp'],bins=30)\n",
    "# plt.show()\n",
    "# plt.hist(numericos['Parch'],bins=30)\n",
    "# plt.show"
   ]
  },
  {
   "cell_type": "code",
   "execution_count": null,
   "metadata": {},
   "outputs": [],
   "source": [
    "import seaborn as sns\n",
    "# Nos permite hacer el ploteo en todas las columnas\n",
    "# sns.pairplot(df, hue = 'Survived')"
   ]
  },
  {
   "cell_type": "code",
   "execution_count": null,
   "metadata": {},
   "outputs": [],
   "source": []
  },
  {
   "cell_type": "code",
   "execution_count": null,
   "metadata": {},
   "outputs": [],
   "source": []
  },
  {
   "cell_type": "code",
   "execution_count": null,
   "metadata": {},
   "outputs": [],
   "source": [
    "matrix = np.dot(matrixArray,np.transpose(matrixArray))\n",
    "correlation = matrix/matrixArray.shape[0]\n",
    "correlation"
   ]
  },
  {
   "cell_type": "code",
   "execution_count": null,
   "metadata": {},
   "outputs": [],
   "source": [
    "eigenValues, eigenVectors = np.linalg.eigh(correlation)\n",
    "eigenValues = np.absolute(eigenValues)\n",
    "sortIndex = np.argsort(eigenValues)\n",
    "sortIndex"
   ]
  },
  {
   "cell_type": "code",
   "execution_count": null,
   "metadata": {},
   "outputs": [],
   "source": [
    "''''\n",
    "Inertia values\n",
    "'''\n",
    "totalValues = correlation.shape[0]\n",
    "inertiaMYPCA =[value/totalValues for value in eigenValues]\n",
    "inertiaMYPCA"
   ]
  },
  {
   "cell_type": "code",
   "execution_count": null,
   "metadata": {},
   "outputs": [],
   "source": [
    "C = np.matmul(matrixArray,eigenVectors)\n",
    "C"
   ]
  },
  {
   "cell_type": "code",
   "execution_count": null,
   "metadata": {},
   "outputs": [],
   "source": [
    "plt.figure(figsize=(15,15))\n",
    "plt.axhline(0, color='b')\n",
    "plt.axvline(0, color='b')\n",
    "for i in range(0, df.shape[1]):\n",
    "    plt.arrow(0,0, eigenVectors[i, 0], # x - PC1\n",
    "        eigenVectors[i, 1], # y - PC2\n",
    "        head_width=0.05, head_length=0.05)\n",
    "    plt.text(eigenVectors[i, 0] + 0.05, eigenVectors[i, 1] + 0.05, df.columns.values[i])\n",
    "an = np.linspace(0, 2 * np.pi, 100)\n",
    "plt.plot(np.cos(an), np.sin(an),color=\"b\") # Circle\n",
    "plt.axis('equal')\n",
    "plt.title('Correlation Circle')\n",
    "plt.show()"
   ]
  },
  {
   "cell_type": "code",
   "execution_count": null,
   "metadata": {},
   "outputs": [],
   "source": [
    "import matplotlib.pyplot as plt\n",
    "plt.scatter(np.ravel(C[:,0]),np.ravel(C[:,1]),c = ['b' if i==1 else 'r' for i in df[\"Survived_1\"]])\n",
    "plt.xlabel('PCA 1 (%.2f%% inertia)' % (inertiaMYPCA[0],))\n",
    "plt.ylabel('PCA 2 (%.2f%% inertia)' % (inertiaMYPCA[1],))\n",
    "plt.title('PCA')\n",
    "plt.show()"
   ]
  },
  {
   "cell_type": "code",
   "execution_count": null,
   "metadata": {},
   "outputs": [],
   "source": [
    "df"
   ]
  },
  {
   "cell_type": "code",
   "execution_count": null,
   "metadata": {},
   "outputs": [],
   "source": [
    "from sklearn.preprocessing import StandardScaler\n",
    "scaler = StandardScaler()\n",
    "df_scaled = scaler.fit_transform(df)"
   ]
  },
  {
   "cell_type": "code",
   "execution_count": null,
   "metadata": {},
   "outputs": [],
   "source": [
    "from sklearn.decomposition import PCA\n",
    "pca = PCA()\n",
    "C = pca.fit_transform(df_scaled)"
   ]
  },
  {
   "cell_type": "code",
   "execution_count": null,
   "metadata": {},
   "outputs": [],
   "source": [
    "import numpy as np\n",
    "inertia = pca.explained_variance_ratio_\n",
    "V = pca.transform(np.identity(df_scaled.shape[1]))"
   ]
  },
  {
   "cell_type": "code",
   "execution_count": null,
   "metadata": {},
   "outputs": [],
   "source": [
    "import matplotlib.pyplot as plt\n",
    "plt.scatter(np.ravel(C[:,0]),np.ravel(C[:,1]),c = ['b' if i==1 else 'r' for i in df[\"Survived_1\"]])\n",
    "plt.xlabel('PCA 1 (%.2f%% inertia)' % (inertia[0],))\n",
    "plt.ylabel('PCA 2 (%.2f%% inertia)' % (inertia[1],))\n",
    "plt.title('PCA')\n",
    "plt.show()"
   ]
  },
  {
   "cell_type": "code",
   "execution_count": null,
   "metadata": {},
   "outputs": [],
   "source": [
    "plt.figure(figsize=(15,15))\n",
    "plt.axhline(0, color='b')\n",
    "plt.axvline(0, color='b')\n",
    "for i in range(0, df.shape[1]):\n",
    "    plt.arrow(0,0, V[i, 0], # x - PC1\n",
    "        V[i, 1], # y - PC2\n",
    "        head_width=0.05, head_length=0.05)\n",
    "    plt.text(V[i, 0] + 0.05, V[i, 1] + 0.05, df.columns.values[i])\n",
    "an = np.linspace(0, 2 * np.pi, 100)\n",
    "plt.plot(np.cos(an), np.sin(an),color=\"b\") # Circle\n",
    "plt.axis('equal')\n",
    "plt.title('Correlation Circle')\n",
    "plt.show()"
   ]
  }
 ],
 "metadata": {
  "interpreter": {
   "hash": "63fd5069d213b44bf678585dea6b12cceca9941eaf7f819626cde1f2670de90d"
  },
  "kernelspec": {
   "display_name": "Python 3.9.4 64-bit",
   "language": "python",
   "name": "python3"
  },
  "language_info": {
   "codemirror_mode": {
    "name": "ipython",
    "version": 3
   },
   "file_extension": ".py",
   "mimetype": "text/x-python",
   "name": "python",
   "nbconvert_exporter": "python",
   "pygments_lexer": "ipython3",
   "version": "3.9.7"
  },
  "orig_nbformat": 4
 },
 "nbformat": 4,
 "nbformat_minor": 2
}
