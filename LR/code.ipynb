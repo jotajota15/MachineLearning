{
 "cells": [
  {
   "cell_type": "code",
   "execution_count": 37,
   "metadata": {},
   "outputs": [],
   "source": [
    "import pandas as pd\n",
    "import numpy as np\n",
    "import sys\n",
    "from LR import LR as lr\n",
    "\n",
    "def MSE(y_true, y_predict):\n",
    "    return (y_true - y_predict).pow(2).mean()\n",
    "\n",
    "def MAE(y_true, y_predict): \n",
    "    return ((y_true - y_predict)).abs().mean()\n",
    "\n",
    "# R2 = ∑ (yi - f(xi))2 /  ∑ (yi - ∑(f(xj))/n )2\n",
    "# R2 = ∑ (yi - f(xi))2 /  ∑ (yi - f(x)mean )2\n",
    "def score(y_true, y_predict):\n",
    "    SSR = np.sum(np.power((y_true - y_predict),2)) # Sum of squared regression\n",
    "    SST = np.sum(np.power((y_true - np.mean(y_true)),2)) # Sum of squared total \n",
    "    return 1-SSR / SST"
   ]
  },
  {
   "cell_type": "code",
   "execution_count": 39,
   "metadata": {},
   "outputs": [
    {
     "name": "stdout",
     "output_type": "stream",
     "text": [
      "-0.5632869606899775\n"
     ]
    },
    {
     "data": {
      "text/plain": [
       "-0.5632869606899775"
      ]
     },
     "execution_count": 39,
     "metadata": {},
     "output_type": "execute_result"
    }
   ],
   "source": [
    "import pandas as pd\n",
    "import numpy as np\n",
    "import sys\n",
    "from LR import LR as lr\n",
    "\n",
    "from sklearn.model_selection import PredefinedSplit, train_test_split\n",
    "\n",
    "df =  pd.read_csv('fish_perch.csv',delimiter=\",\",decimal=\".\")\n",
    "Y = df.pop(\"Weight\")\n",
    "myLr = lr()\n",
    "X_train, X_test, y_train, y_test = train_test_split(df, Y, train_size=0.75, test_size=0.25, random_state=21)\n",
    "myLr.fit(X_train, y_train,learning_rate=0.001,momentum=0.3, decay=0.001, error = 'mae', regularization='l2', lamda=0.8)\n",
    "y_pred = myLr.predict(X_test)\n",
    "print(score(y_test,y_pred))\n",
    "r2_score(y_test, y_pred)"
   ]
  },
  {
   "cell_type": "code",
   "execution_count": 40,
   "metadata": {},
   "outputs": [
    {
     "name": "stdout",
     "output_type": "stream",
     "text": [
      "0.9152645549350648\n"
     ]
    },
    {
     "data": {
      "text/plain": [
       "0.9152645549350648"
      ]
     },
     "execution_count": 40,
     "metadata": {},
     "output_type": "execute_result"
    }
   ],
   "source": [
    "from sklearn.linear_model import LinearRegression\n",
    "\n",
    "lr = LinearRegression()\n",
    "lr.fit(X_train, y_train)\n",
    "y_pred = lr.predict(X_test)\n",
    "print(score(y_test,y_pred))\n",
    "from sklearn.metrics import r2_score\n",
    "r2_score(y_test, y_pred)"
   ]
  }
 ],
 "metadata": {
  "interpreter": {
   "hash": "1d3566b98539942dfe42f243b655841af5c597145eebc5638a47e844e4435e63"
  },
  "kernelspec": {
   "display_name": "Python 3.9.7 ('base')",
   "language": "python",
   "name": "python3"
  },
  "language_info": {
   "codemirror_mode": {
    "name": "ipython",
    "version": 3
   },
   "file_extension": ".py",
   "mimetype": "text/x-python",
   "name": "python",
   "nbconvert_exporter": "python",
   "pygments_lexer": "ipython3",
   "version": "3.9.7"
  },
  "orig_nbformat": 4
 },
 "nbformat": 4,
 "nbformat_minor": 2
}
