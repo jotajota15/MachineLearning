{
 "cells": [
  {
   "cell_type": "code",
   "execution_count": 19,
   "metadata": {},
   "outputs": [],
   "source": [
    "import pandas as pd\n",
    "import numpy as np"
   ]
  },
  {
   "cell_type": "code",
   "execution_count": 20,
   "metadata": {},
   "outputs": [],
   "source": [
    "import sys\n",
    "df =  pd.read_csv('fish_perch.csv',delimiter=\",\",decimal=\".\")\n",
    "Y = df.pop(\"Weight\")"
   ]
  },
  {
   "cell_type": "code",
   "execution_count": 21,
   "metadata": {},
   "outputs": [],
   "source": [
    "def MSE(y_true, y_predict):\n",
    "    return (y_true - y_predict).pow(2).mean()\n",
    "\n",
    "def MAE(y_true, y_predict): \n",
    "    return ((y_true - y_predict)).abs().mean()\n",
    "\n",
    "# R2 = ∑ (yi - f(xi))2 /  ∑ (yi - ∑(f(xj))/n )2\n",
    "# R2 = ∑ (yi - f(xi))2 /  ∑ (yi - f(x)mean )2\n",
    "def score(y_true, y_predict):\n",
    "    SSR = (y_true - y_predict).pow(2) # Sum of squared regression\n",
    "    SST = (y_true - y_predict.mean()).pow(2) # Sum of squared total \n",
    "    return SSR / SST\n",
    "\n"
   ]
  },
  {
   "cell_type": "code",
   "execution_count": 24,
   "metadata": {},
   "outputs": [],
   "source": [
    "# Preguntar al profe por la perdida de MAE\n",
    "import numpy as np \n",
    "import itertools\n",
    "import sys\n",
    "def gradientDescend(x,y_true,y_predict):\n",
    "    return (2*(y_true-y_predict)).mul(x).mean()\n",
    "def fit(x, y, max_epochs=100, threshold=0.01, learning_rate=0.001, momentum=0, decay=0, error = 'mse', regularization='none', lambdaV=0):\n",
    "    currentError = 0\n",
    "    error = sys. float_info. max\n",
    "    C = np.random.rand(x.shape[1],1) # TODO 1 : Ask for better options, to crate random values\n",
    "    for _ in itertools.repeat(None, max_epochs):\n",
    "        y_predict = x*C\n",
    "        currentError = MAE(y,y_predict)\n",
    "        if currentError - error > threshold:\n",
    "            break\n",
    "        currentError = error\n",
    "        dC = gradientDescend(x,y_predict,y)\n",
    "        C -= learning_rate * dC\n",
    "        return C\n",
    "\n",
    "\n",
    "    funcError = MSE\n",
    "    if error == 'mae':\n",
    "        funcError = MAE\n",
    "    c = np.random.randint(0, 9,(5,1))\n",
    "C = np.random.rand(5,1) \n",
    "    "
   ]
  },
  {
   "cell_type": "code",
   "execution_count": 42,
   "metadata": {},
   "outputs": [
    {
     "data": {
      "text/plain": [
       "array([1, 4, 9])"
      ]
     },
     "execution_count": 42,
     "metadata": {},
     "output_type": "execute_result"
    }
   ],
   "source": [
    "import numpy as np\n",
    "import itertools\n",
    "num = 10\n",
    "\n",
    "def funcion(w):\n",
    "    return(\"Hola\")\n",
    "fun = lambda x,y: 0 \n",
    "fun(2,1)\n",
    "C.size\n",
    "x = 2\n",
    "C = np.array([1,2,3])\n",
    "C.__mul__(C) \n"
   ]
  },
  {
   "cell_type": "code",
   "execution_count": 35,
   "metadata": {},
   "outputs": [
    {
     "data": {
      "text/plain": [
       "0       -0.5\n",
       "1      130.0\n",
       "2      170.0\n",
       "3      227.5\n",
       "4      320.0\n",
       "5      470.0\n",
       "6      360.0\n",
       "7      370.0\n",
       "8      395.0\n",
       "9      395.0\n",
       "10     520.0\n",
       "11     545.0\n",
       "12     595.0\n",
       "13     620.0\n",
       "14     570.0\n",
       "15     570.0\n",
       "16     620.0\n",
       "17     645.0\n",
       "18     520.0\n",
       "19     620.0\n",
       "20     720.0\n",
       "21     695.0\n",
       "22     720.0\n",
       "23     820.0\n",
       "24    1095.0\n",
       "25     695.0\n",
       "26     910.0\n",
       "27     870.0\n",
       "28     955.0\n",
       "29    1060.0\n",
       "30    1470.0\n",
       "31    1270.0\n",
       "32    1295.0\n",
       "33    1220.0\n",
       "34    1220.0\n",
       "35    1470.0\n",
       "36    1570.0\n",
       "37    2540.0\n",
       "38    2750.0\n",
       "39    4170.0\n",
       "40    3395.0\n",
       "41    3470.0\n",
       "42    3470.0\n",
       "43    3420.0\n",
       "44    4470.0\n",
       "45    3220.0\n",
       "46    4070.0\n",
       "47    4220.0\n",
       "48    4470.0\n",
       "49    5045.0\n",
       "50    4070.0\n",
       "51    5470.0\n",
       "52    4970.0\n",
       "53    5470.0\n",
       "54    4970.0\n",
       "55    4970.0\n",
       "Name: Weight, dtype: float64"
      ]
     },
     "execution_count": 35,
     "metadata": {},
     "output_type": "execute_result"
    }
   ],
   "source": [
    "def GDMAE(x,y_true,y_predict):\n",
    "    return (np.sign(y_true-y_predict).mul(x)).mean()\n",
    "(Y-6)*5"
   ]
  }
 ],
 "metadata": {
  "interpreter": {
   "hash": "1d3566b98539942dfe42f243b655841af5c597145eebc5638a47e844e4435e63"
  },
  "kernelspec": {
   "display_name": "Python 3.9.7 ('base')",
   "language": "python",
   "name": "python3"
  },
  "language_info": {
   "codemirror_mode": {
    "name": "ipython",
    "version": 3
   },
   "file_extension": ".py",
   "mimetype": "text/x-python",
   "name": "python",
   "nbconvert_exporter": "python",
   "pygments_lexer": "ipython3",
   "version": "3.9.7"
  },
  "orig_nbformat": 4
 },
 "nbformat": 4,
 "nbformat_minor": 2
}
