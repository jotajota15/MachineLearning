{
 "cells": [
  {
   "cell_type": "code",
   "execution_count": 1,
   "metadata": {},
   "outputs": [],
   "source": [
    "import pandas as pd\n",
    "import numpy as np"
   ]
  },
  {
   "cell_type": "code",
   "execution_count": 2,
   "metadata": {},
   "outputs": [],
   "source": [
    "import sys\n",
    "df =  pd.read_csv('fish_perch.csv',delimiter=\",\",decimal=\".\")\n",
    "Y = df.pop(\"Weight\")"
   ]
  },
  {
   "cell_type": "code",
   "execution_count": 3,
   "metadata": {},
   "outputs": [],
   "source": [
    "def MSE(y_true, y_predict):\n",
    "    return (y_true - y_predict).pow(2).mean()\n",
    "\n",
    "def MAE(y_true, y_predict): \n",
    "    return ((y_true - y_predict)).abs().mean()\n",
    "\n",
    "# R2 = ∑ (yi - f(xi))2 /  ∑ (yi - ∑(f(xj))/n )2\n",
    "# R2 = ∑ (yi - f(xi))2 /  ∑ (yi - f(x)mean )2\n",
    "def score(y_true, y_predict):\n",
    "    SSR = (y_true - y_predict).pow(2) # Sum of squared regression\n",
    "    SST = (y_true - y_predict.mean()).pow(2) # Sum of squared total \n",
    "    return SSR / SST\n",
    "\n"
   ]
  },
  {
   "cell_type": "code",
   "execution_count": 4,
   "metadata": {},
   "outputs": [],
   "source": [
    "# Preguntar al profe por la perdida de MAE\n",
    "import numpy as np \n",
    "import itertools\n",
    "import sys\n",
    "def gradientDescend(x,y_true,y_predict):\n",
    "    return (2*(y_true-y_predict)).mul(x).mean()\n",
    "def fit(x, y, max_epochs=100, threshold=0.01, learning_rate=0.001, momentum=0, decay=0, error = 'mse', regularization='none', lambdaV=0):\n",
    "    currentError = 0\n",
    "    error = sys. float_info. max\n",
    "    C = np.random.rand(x.shape[1],1) # TODO 1 : Ask for better options, to crate random values\n",
    "    for _ in itertools.repeat(None, max_epochs):\n",
    "        y_predict = x*C\n",
    "        currentError = MAE(y,y_predict)\n",
    "        if currentError - error > threshold:\n",
    "            break\n",
    "        currentError = error\n",
    "        dC = gradientDescend(x,y_predict,y)\n",
    "        C -= learning_rate * dC\n",
    "        return C\n",
    "\n",
    "\n",
    "    funcError = MSE\n",
    "    if error == 'mae':\n",
    "        funcError = MAE\n",
    "    c = np.random.randint(0, 9,(5,1))\n",
    "    "
   ]
  },
  {
   "cell_type": "code",
   "execution_count": 5,
   "metadata": {},
   "outputs": [
    {
     "name": "stdout",
     "output_type": "stream",
     "text": [
      "hola\n",
      "hola\n",
      "hola\n",
      "hola\n",
      "hola\n",
      "hola\n",
      "hola\n",
      "hola\n",
      "hola\n",
      "hola\n"
     ]
    }
   ],
   "source": [
    "import numpy as np\n",
    "import itertools\n",
    "num = 10\n",
    "for _ in itertools.repeat(None, num):\n",
    "    print(\"hola\")"
   ]
  },
  {
   "cell_type": "code",
   "execution_count": 12,
   "metadata": {},
   "outputs": [
    {
     "name": "stdout",
     "output_type": "stream",
     "text": [
      "1\n"
     ]
    }
   ],
   "source": [
    "def GDMAE(x,y_true,y_predict):\n",
    "    return (np.sign(y_true-y_predict).mul(x)).mean()\n"
   ]
  }
 ],
 "metadata": {
  "interpreter": {
   "hash": "1d3566b98539942dfe42f243b655841af5c597145eebc5638a47e844e4435e63"
  },
  "kernelspec": {
   "display_name": "Python 3.9.7 ('base')",
   "language": "python",
   "name": "python3"
  },
  "language_info": {
   "codemirror_mode": {
    "name": "ipython",
    "version": 3
   },
   "file_extension": ".py",
   "mimetype": "text/x-python",
   "name": "python",
   "nbconvert_exporter": "python",
   "pygments_lexer": "ipython3",
   "version": "3.9.7"
  },
  "orig_nbformat": 4
 },
 "nbformat": 4,
 "nbformat_minor": 2
}
