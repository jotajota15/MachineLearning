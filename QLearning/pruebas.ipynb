{
 "cells": [
  {
   "cell_type": "code",
   "execution_count": 5,
   "metadata": {},
   "outputs": [
    {
     "data": {
      "text/plain": [
       "array([20., 20., 20., 20.])"
      ]
     },
     "execution_count": 5,
     "metadata": {},
     "output_type": "execute_result"
    }
   ],
   "source": [
    "import random\n",
    "import numpy as np\n",
    "# prng = random.Random()\n",
    "# prng.seed(5)\n",
    "# prng.randint(1,3)\n",
    "np.full(shape=4,fill_value=1,dtype=np.float64)\n",
    "# np.zeros(4)[0]"
   ]
  },
  {
   "cell_type": "code",
   "execution_count": 68,
   "metadata": {},
   "outputs": [
    {
     "name": "stdout",
     "output_type": "stream",
     "text": [
      "True\n",
      "2\n",
      "1\n",
      "False\n"
     ]
    },
    {
     "data": {
      "text/plain": [
       "0.0"
      ]
     },
     "execution_count": 68,
     "metadata": {},
     "output_type": "execute_result"
    }
   ],
   "source": [
    "import numpy as np \n",
    "np.random.randint(4)\n",
    "import random\n",
    "prng = random.Random()\n",
    "prng.seed(5)\n",
    "# a = [1,2]\n",
    "# len(a)\n",
    "\n",
    "# a = {(1,\"a\"): 2, (2,2):3}\n",
    "# a[(1,\"a\")]\n",
    "from collections import deque\n",
    "stack = deque()\n",
    "stack.append(1)\n",
    "stack.append(2)\n",
    "print(bool(stack))\n",
    "print(stack.pop())\n",
    "print(stack.pop())\n",
    "print(bool(stack))\n",
    "l = 0.8\n",
    "decay = 0.01\n",
    "l /=(1+decay)\n",
    "l\n",
    "\n",
    "ll = 0.8\n",
    "decay = 0.01\n",
    "ll = ll*(1+decay)**-1\n",
    "ll\n",
    "ll - l"
   ]
  },
  {
   "cell_type": "code",
   "execution_count": 112,
   "metadata": {},
   "outputs": [
    {
     "data": {
      "text/plain": [
       "2"
      ]
     },
     "execution_count": 112,
     "metadata": {},
     "output_type": "execute_result"
    }
   ],
   "source": [
    "class something():\n",
    "    def __init__(self,x):\n",
    "        self.__x = x\n",
    "    def __not(self):\n",
    "        return self.__x\n",
    "    def call(self):\n",
    "        return self.__not()\n",
    "\n",
    "some = something(2)\n",
    "some.call()"
   ]
  },
  {
   "cell_type": "code",
   "execution_count": 125,
   "metadata": {},
   "outputs": [
    {
     "data": {
      "text/plain": [
       "2"
      ]
     },
     "execution_count": 125,
     "metadata": {},
     "output_type": "execute_result"
    }
   ],
   "source": [
    "(1,(1,2))[1][1]"
   ]
  },
  {
   "cell_type": "code",
   "execution_count": 114,
   "metadata": {},
   "outputs": [
    {
     "name": "stdout",
     "output_type": "stream",
     "text": [
      "2\n",
      "1\n"
     ]
    }
   ],
   "source": [
    "stack.append(1)\n",
    "stack.append(2)\n",
    "print(stack.pop())\n",
    "print(stack.pop())\n",
    "stack."
   ]
  }
 ],
 "metadata": {
  "kernelspec": {
   "display_name": "Python 3.9.7 ('base')",
   "language": "python",
   "name": "python3"
  },
  "language_info": {
   "codemirror_mode": {
    "name": "ipython",
    "version": 3
   },
   "file_extension": ".py",
   "mimetype": "text/x-python",
   "name": "python",
   "nbconvert_exporter": "python",
   "pygments_lexer": "ipython3",
   "version": "3.9.7"
  },
  "orig_nbformat": 4,
  "vscode": {
   "interpreter": {
    "hash": "1d3566b98539942dfe42f243b655841af5c597145eebc5638a47e844e4435e63"
   }
  }
 },
 "nbformat": 4,
 "nbformat_minor": 2
}
