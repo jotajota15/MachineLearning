{
 "cells": [
  {
   "cell_type": "markdown",
   "metadata": {},
   "source": [
    "# Datos del codigo:\n",
    "* Estudiante: Juan Jose Valverde Campos\n",
    "* Carnet: B47200\n",
    "* Laboratorio 4 - CNN\n",
    "* Profesor: Pablo Sauma Chacón"
   ]
  },
  {
   "cell_type": "markdown",
   "metadata": {},
   "source": [
    "# Importación de Librerías"
   ]
  },
  {
   "cell_type": "code",
   "execution_count": 2,
   "metadata": {},
   "outputs": [],
   "source": [
    "import matplotlib.pyplot as plt\n",
    "import numpy as np\n",
    "import pickle\n",
    "import torch as pt \n",
    "# from torch.utils.data import dataset as Dataset\n",
    "from torch.utils.data import Dataset\n",
    "from torch.utils.data import DataLoader"
   ]
  },
  {
   "cell_type": "markdown",
   "metadata": {},
   "source": [
    "# Se obtienen los datos con los cuales se va a trabajar"
   ]
  },
  {
   "cell_type": "code",
   "execution_count": 3,
   "metadata": {},
   "outputs": [],
   "source": [
    "# Custom subdirectory to find images\n",
    "DIRECTORY = \"images\"\n",
    "def load_data():\n",
    "    def unpickle(file):\n",
    "        with open(file, 'rb') as fo:\n",
    "            dict = pickle.load(fo, encoding='bytes')\n",
    "        return dict\n",
    "    names = [n.decode('utf-8') for n in unpickle(DIRECTORY+\"/batches.meta\")[b'label_names']]\n",
    "    x_train = None\n",
    "    y_train = []\n",
    "    for i in range(1,6):\n",
    "        data = unpickle(DIRECTORY+\"/data_batch_\"+str(i))\n",
    "        if i>1:\n",
    "            x_train = np.append(x_train, data[b'data'], axis=0)\n",
    "        else:\n",
    "            x_train = data[b'data']\n",
    "        y_train += data[b'labels']\n",
    "    data = unpickle(DIRECTORY+\"/test_batch\")\n",
    "    x_test = data[b'data']\n",
    "    y_test = data[b'labels']\n",
    "    return names,x_train,y_train,x_test,y_test\n",
    "\n",
    "names,x_train,y_train,x_test,y_test = load_data()"
   ]
  },
  {
   "cell_type": "markdown",
   "metadata": {},
   "source": [
    "# Se obtiene la visualización de imágenes"
   ]
  },
  {
   "cell_type": "code",
   "execution_count": 4,
   "metadata": {},
   "outputs": [
    {
     "data": {
      "image/png": "[encoded data removed]",
      "text/plain": [
       "<Figure size 432x288 with 1 Axes>"
      ]
     },
     "metadata": {
      "needs_background": "light"
     },
     "output_type": "display_data"
    },
    {
     "name": "stdout",
     "output_type": "stream",
     "text": [
      "automobile\n"
     ]
    }
   ],
   "source": [
    "def plot_tensor(tensor, perm=None):\n",
    "    if perm==None: perm = (1,2,0)\n",
    "    plt.figure()\n",
    "    plt.imshow(tensor.permute(perm).numpy().astype(np.uint8))\n",
    "    plt.show()\n",
    "images = pt.Tensor(x_train)\n",
    "images = images.resize_(50000,3,32,32)\n",
    "plot_tensor(images[5])\n",
    "print(names[y_train[5]])\n"
   ]
  },
  {
   "cell_type": "markdown",
   "metadata": {},
   "source": [
    "# Se crea la clase que va a ser llamada para entrenarse"
   ]
  },
  {
   "cell_type": "code",
   "execution_count": 5,
   "metadata": {},
   "outputs": [],
   "source": [
    "# Se crea una clase que hereda de torch.nn.Module\n",
    "# En el constructor se debe llamar al constructor padre  y crear sus capas\n",
    "# Y se debe crear su método forward que ejecuta el paso de los datos por las neuronas\n",
    "\n",
    "\n",
    "class SurvivorClassifier(pt.nn.Module):\n",
    "\t# def __init__(self, struct, activations,type):\n",
    "\tdef __init__(self):\n",
    "\t\tsuper().__init__()\n",
    "\t\t# self.fc = []\n",
    "\t\t# self.act = []\n",
    "\n",
    "\t\t# self.fc1 = pt.nn.Linear(9, 5)\n",
    "\t\t# self.act1 = pt.nn.ReLU()\n",
    "\t\t# self.fc2 = pt.nn.Linear(5, 1)\n",
    "\t\t# self.act2 = pt.nn.Sigmoid()\n",
    "\t\tself.fc1 = pt.nn.Conv2d(3, 5, (3,3))\n",
    "\t\tself.act1 = pt.nn.ReLU()\n",
    "\t\tself.pool1 = pt.nn.MaxPool2d(2)\n",
    "\n",
    "\t\tself.fc2 = pt.nn.Conv2d(5, 3, (3,3))\n",
    "\t\tself.act2 = pt.nn.ReLU()\n",
    "\t\tself.pool2 = pt.nn.MaxPool2d(2)\n",
    "\n",
    "\t\tself.fc3 = pt.nn.Linear(108, 10)\n",
    "\t\tself.act3 = pt.nn.Sigmoid()\n",
    "\n",
    "\n",
    "\n",
    "\n",
    "\n",
    "\tdef forward(self, x):\n",
    "\t\th1 = self.pool1(self.act1(self.fc1(x)))\n",
    "\t\th2 = self.pool2(self.act2(self.fc2(h1)))\n",
    "\t\th3 = self.fc3(h2.view(h2.size(0), -1) )# Repasar que se hizo .... (Tiene una entrada enorme....)\n",
    "\t\treturn self.act3( h3 )\n",
    "\t\t# h = self.act1( self.fc1(x) )\n",
    "\t\t# out = self.act2( self.fc2(h) )\n",
    "\t\t# return out\n"
   ]
  },
  {
   "cell_type": "markdown",
   "metadata": {},
   "source": [
    "# Se convierte los datos en tensores y se hace los batch de entrenamiento"
   ]
  },
  {
   "cell_type": "code",
   "execution_count": 6,
   "metadata": {},
   "outputs": [],
   "source": [
    "names,x_train,y_train,x_test,y_test = load_data()\n",
    "x_train = pt.Tensor(x_train)\n",
    "y_train = pt.Tensor(y_train)\n",
    "x_test = pt.Tensor(x_test)\n",
    "y_test = pt.Tensor(y_test)\n",
    "x_train = x_train.resize_(50000,3,32,32)\n",
    "x_test = x_test.resize_(10000,3,32,32)"
   ]
  },
  {
   "cell_type": "code",
   "execution_count": 7,
   "metadata": {},
   "outputs": [],
   "source": [
    "class MyDataset(Dataset):\n",
    "    def __init__(self, x, y):\n",
    "        super(MyDataset, self).__init__()\n",
    "        assert x.shape[0] == y.shape[0] # assuming shape[0] = dataset size\n",
    "        self.x = x\n",
    "        self.y = y\n",
    "\n",
    "\n",
    "    def __len__(self):\n",
    "        return self.y.shape[0]\n",
    "\n",
    "    def __getitem__(self, index):\n",
    "        return self.x[index], self.y[index]\n",
    "# traindata = MyDataset(x_train, y_train)\n",
    "traindata = MyDataset(x_train, y_train)\n",
    "testdata = MyDataset(x_test, y_test)\n",
    "train_dataloader = DataLoader(traindata, batch_size=5000, shuffle=True)\n",
    "test_dataloader = DataLoader(testdata, shuffle=True)"
   ]
  },
  {
   "cell_type": "markdown",
   "metadata": {},
   "source": [
    "Se instancia el modelo y sus parametros"
   ]
  },
  {
   "cell_type": "code",
   "execution_count": 20,
   "metadata": {},
   "outputs": [],
   "source": [
    "# model = SurvivorClassifier()\t# Crea el modelo\n",
    "# loss_fn = pt.nn.MSELoss()\t\t# Función de error a utilizar\n",
    "# optimizer = pt.optim.Adam(model.parameters(), lr=0.01)\t\t# Optimizador\n",
    "\n",
    "\n",
    "# loss_train = []\n",
    "# loss_test = []\n",
    "\n",
    "# for i in range(100):\n",
    "# \ttrain_features, train_labels = next(iter(train_dataloader))\n",
    "# \toptimizer.zero_grad()\t\t\t# Coloca los Δw en 0\n",
    "# \ty_pred = model( train_features) # Predice los valores del conjunto de entrenamiento\n",
    "# \tloss = loss_fn(y_pred.max(1).values, train_labels)\t# Calcula la pérdida\n",
    "# \tloss.backward()\t\t\t\t\t# Calcula el backprogration (Δw) y acumula el error\n",
    "# \toptimizer.step()\t\t\t\t# Aplica los Δw acumulados y avanza un paso la iter. \n",
    "# \twith pt.no_grad():\t\t\t# Apaga el cálculo de gradientes\n",
    "# \t\tloss2 = loss_fn( model(x_test).max(1).values, y_test)\n",
    "# \tloss_train.append(loss.item())\n",
    "# \tloss_test.append(loss2.item())\n",
    "# \tif(i%10 == 0):\n",
    "# \t\tprint(i)\n",
    "# plt.plot(loss_train)\n",
    "# plt.plot(loss_test)\n",
    "# plt.show()"
   ]
  },
  {
   "cell_type": "code",
   "execution_count": 13,
   "metadata": {},
   "outputs": [],
   "source": [
    "model = SurvivorClassifier()\t# Crea el modelo\n",
    "loss_fn = pt.nn.CrossEntropyLoss()\t\t# Función de error a utilizar torch.\n",
    "optimizer = pt.optim.Adam(model.parameters(), lr=0.01)\t\t# Optimizador\n",
    "\n",
    "def train_one_epoch(epoch_index, tb_writer):\n",
    "    running_loss = 0.\n",
    "    last_loss = 0.\n",
    "\n",
    "    # Here, we use enumerate(training_loader) instead of\n",
    "    # iter(training_loader) so that we can track the batch\n",
    "    # index and do some intra-epoch reporting\n",
    "    for i, data in enumerate(train_dataloader):\n",
    "        # Every data instance is an input + label pair\n",
    "        inputs, labels = data\n",
    "\n",
    "        # Zero your gradients for every batch!\n",
    "        optimizer.zero_grad()\n",
    "\n",
    "        # Make predictions for this batch\n",
    "        outputs = model(inputs)\n",
    "\n",
    "        # Compute the loss and its gradients\n",
    "        loss = loss_fn(outputs, labels.long())\n",
    "        loss.backward()\n",
    "\n",
    "        # Adjust learning weights\n",
    "        optimizer.step()\n",
    "\n",
    "        # Gather data and report\n",
    "        running_loss += loss.item()\n",
    "        # if i % 1000 == 999:\n",
    "        #     last_loss = running_loss / 1000 # loss per batch\n",
    "        if i % 10 == 9:\n",
    "            last_loss = running_loss / 10 # loss per batch\n",
    "            # print('  batch {} loss: {}'.format(i + 1, last_loss))\n",
    "            tb_x = epoch_index * len(train_dataloader) + i + 1\n",
    "            # tb_writer('Loss/train', last_loss, tb_x)\n",
    "            tb_writer.add_scalar('Loss/train', last_loss, tb_x)\n",
    "            running_loss = 0.\n",
    "\n",
    "    return last_loss\n",
    "def information(voutputs,y_test):\n",
    "    answer = pt.argmax(voutputs, dim=1)\n",
    "    correct = 0\n",
    "    for i in range(y_test.size().numel()):\n",
    "        if answer[i]==y_test[i]:\n",
    "            correct +=1\n",
    "    return correct / y_test.size().numel()"
   ]
  },
  {
   "cell_type": "code",
   "execution_count": 11,
   "metadata": {},
   "outputs": [],
   "source": [
    "# Initializing in a separate cell so we can easily add more epochs to the same run\n",
    "from datetime import datetime\n",
    "from torch.utils.tensorboard import SummaryWriter\n",
    "timestamp = datetime.now().strftime('%Y%m%d_%H%M%S')\n",
    "writer = SummaryWriter('runs/fashion_trainer_{}'.format(timestamp))\n",
    "tensorBoard = False\n",
    "\n",
    "EPOCHS = 5\n",
    "\n",
    "\n",
    "def completeTrain(epoch_number,best_vloss):\n",
    "    for epoch in range(EPOCHS):\n",
    "        print('EPOCH {}:'.format(epoch_number + 1))\n",
    "\n",
    "        # Make sure gradient tracking is on, and do a pass over the data\n",
    "        model.train(True)\n",
    "        avg_loss = train_one_epoch(epoch_number, writer)\n",
    "        # We don't need gradients on to do reporting\n",
    "        model.train(False)\n",
    "\n",
    "        running_vloss = 0.0\n",
    "        \n",
    "        voutputs = model(x_test)\n",
    "        vloss = loss_fn(voutputs, y_test.long())\n",
    "        running_vloss += vloss\n",
    "\n",
    "\n",
    "        # for i, vdata in enumerate(test_dataloader):\n",
    "        #     vinputs, vlabels = vdata\n",
    "        #     voutputs = model(vinputs)\n",
    "        #     vloss = loss_fn(voutputs, vlabels.long())\n",
    "        #     running_vloss += vloss\n",
    "        avg_vloss = running_vloss\n",
    "        # avg_vloss = running_vloss / (i + 1)\n",
    "        print('LOSS train {} valid {}'.format(avg_loss, avg_vloss))\n",
    "        print('Propotion: {}'.format(information(voutputs,y_test)))\n",
    "        # # Log the running loss averaged per batch\n",
    "        # # for both training and validation\n",
    "        writer.add_scalars('Training vs. Validation Loss',\n",
    "                        { 'Training' : avg_loss, 'Validation' : avg_vloss },\n",
    "                        epoch_number + 1)\n",
    "        writer.flush()\n",
    "\n",
    "        # Track best performance, and save the model's state\n",
    "        if avg_vloss < best_vloss:\n",
    "            print(\"entra\")\n",
    "            best_vloss = avg_vloss\n",
    "            model_path = 'model_{}_{}'.format(timestamp, epoch_number)\n",
    "            # pt.save({\n",
    "            # 'epoch': epoch,\n",
    "            # 'model_state_dict': model.state_dict(),\n",
    "            # 'optimizer_state_dict': optimizer.state_dict(),\n",
    "            # 'loss': best_vloss,\n",
    "            # }, \"myModel\")\n",
    "\n",
    "        epoch_number += 1\n",
    "epoch_number = 0\n",
    "best_vloss = 1_000_000.\n",
    "# completeTrain(epoch_number,best_vloss)"
   ]
  },
  {
   "cell_type": "code",
   "execution_count": 14,
   "metadata": {},
   "outputs": [
    {
     "name": "stdout",
     "output_type": "stream",
     "text": [
      "EPOCH 1:\n",
      "LOSS train 1.9011454105377197 valid 1.9176634550094604\n",
      "Propotion: 0.4102\n",
      "entra\n",
      "EPOCH 2:\n",
      "LOSS train 1.9068703651428223 valid 1.9235527515411377\n",
      "Propotion: 0.4024\n",
      "EPOCH 3:\n",
      "LOSS train 1.9062955141067506 valid 1.9213417768478394\n",
      "Propotion: 0.4132\n",
      "EPOCH 4:\n",
      "LOSS train 1.9031761050224305 valid 1.9164155721664429\n",
      "Propotion: 0.408\n",
      "entra\n",
      "EPOCH 5:\n",
      "LOSS train 1.905645775794983 valid 1.9210764169692993\n",
      "Propotion: 0.3934\n"
     ]
    }
   ],
   "source": [
    "checkpoint = pt.load(\"trueModel\")\n",
    "model = SurvivorClassifier()\n",
    "model.load_state_dict(checkpoint[\"model_state_dict\"])\n",
    "optimizer = pt.optim.Adam(model.parameters(), lr=0.01)\t\t# Optimizador\n",
    "optimizer.load_state_dict(checkpoint[\"optimizer_state_dict\"])\n",
    "completeTrain(epoch_number,best_vloss)"
   ]
  },
  {
   "cell_type": "code",
   "execution_count": 19,
   "metadata": {},
   "outputs": [],
   "source": [
    "checkpoint = pt.load(\"trueModel\")\n",
    "model = SurvivorClassifier()\n",
    "model.load_state_dict(checkpoint[\"model_state_dict\"])\n",
    "model.train(False)\n",
    "voutputs = model(x_test)\n",
    "vloss = loss_fn(voutputs, y_test.long())\n",
    "answers = pt.argmax(voutputs, dim=1)"
   ]
  },
  {
   "cell_type": "code",
   "execution_count": 92,
   "metadata": {},
   "outputs": [],
   "source": [
    "import pandas as pd\n",
    "import seaborn as sns\n",
    "def calculate_confusion_matrix(predict, real):\n",
    "    df = pd.DataFrame(index=names,columns=names).notnull().astype('uint') # df [c][f]\n",
    "    for i in range(y_test.size().numel()):\n",
    "        df[names[real[i].item()]] [names[predict[i].item()]]+=1\n",
    "    \n",
    "    return df.astype(int)\n",
    "    # P =  Predict \n",
    "    # R =  Real \n",
    "    # [1 .(P=F,R=F) = ,2. (P=F,R=T)],[3. (P=T,R=F),4. (P=T,R=T)]\n",
    "    # [4] [3]\n",
    "    # [2] [1]\n",
    "y_test = y_test.to(pt.int32)\n",
    "predict = pt.argmax(voutputs, dim=1)\n",
    "df = calculate_confusion_matrix(predict,y_test)"
   ]
  },
  {
   "cell_type": "code",
   "execution_count": 93,
   "metadata": {},
   "outputs": [
    {
     "data": {
      "image/png": "[encoded data removed]",
      "text/plain": [
       "<Figure size 432x288 with 2 Axes>"
      ]
     },
     "metadata": {
      "needs_background": "light"
     },
     "output_type": "display_data"
    }
   ],
   "source": [
    "df\n",
    "ax = sns.heatmap(df, annot=True,fmt='g', cmap='Blues')\n",
    "sea = ax.set_xticklabels(ax.get_xticklabels(),rotation = 50)"
   ]
  },
  {
   "cell_type": "code",
   "execution_count": 192,
   "metadata": {},
   "outputs": [
    {
     "name": "stdout",
     "output_type": "stream",
     "text": [
      "{'Accuracy': 0.4052, 'Precision': 0.29555997349237906, 'Recall': 0.446, 'F1': 0.35552012754085294, 'Sensitivity': 0.446, 'Specificity': 0.772328121653459}\n"
     ]
    }
   ],
   "source": [
    "def getAccurracy(df):\n",
    "    trues = np.diagonal(df)\n",
    "    totalVal = df.values.sum() \n",
    "    return trues.sum() / totalVal\n",
    "\n",
    "\n",
    "def getTP(df,Class):\n",
    "    return df[Class][Class]\n",
    "\n",
    "def getTN(df,Class):\n",
    "    return np.diagonal(df).sum()-df[Class][Class]\n",
    "\n",
    "def getFP(df,Class):\n",
    "    return df[Class:Class].values.sum()-df[Class][Class]\n",
    "\n",
    "def getFN(df,Class):\n",
    "    return df[Class].values.sum()-df[Class][Class]\n",
    "\n",
    "\n",
    "def getConfusionClass(df,Class):\n",
    "    tp = getTP(df,Class)\n",
    "    tn = getTN(df,Class)\n",
    "    fp = getFP(df,Class)\n",
    "    fn = getFN(df,Class)\n",
    "    prec = tp / (tp+fp)\n",
    "    reca = tp / (tp+fn)\n",
    "    return {\n",
    "                \"Accuracy\": getAccurracy(df),\n",
    "                \"Precision\": prec,\n",
    "                \"Recall\":reca,\n",
    "                \"F1\": 2 * prec*reca /(prec+reca),\n",
    "                \"Sensitivity\": reca,\n",
    "                \"Specificity\":tn/(tn+fp)\n",
    "            }\n",
    "    \n",
    "print(getConfusionClass(df,\"cat\"))"
   ]
  }
 ],
 "metadata": {
  "interpreter": {
   "hash": "f725ec176118a03aef320ba7e9e1619fcadcf0b1f58c334b8b384d7214ca7a14"
  },
  "kernelspec": {
   "display_name": "Python 3.9.12 ('Redes')",
   "language": "python",
   "name": "python3"
  },
  "language_info": {
   "codemirror_mode": {
    "name": "ipython",
    "version": 3
   },
   "file_extension": ".py",
   "mimetype": "text/x-python",
   "name": "python",
   "nbconvert_exporter": "python",
   "pygments_lexer": "ipython3",
   "version": "3.9.12"
  },
  "orig_nbformat": 4
 },
 "nbformat": 4,
 "nbformat_minor": 2
}
