{
 "cells": [
  {
   "cell_type": "markdown",
   "metadata": {},
   "source": [
    "# Datos del codigo:\n",
    "* Estudiante: Juan Jose Valverde Campos\n",
    "* Carnet: B47200\n",
    "* Laboratorio 4 - CNN\n",
    "* Profesor: Pablo Sauma Chacón"
   ]
  },
  {
   "cell_type": "markdown",
   "metadata": {},
   "source": [
    "# Importación de Librerías"
   ]
  },
  {
   "cell_type": "code",
   "execution_count": 1,
   "metadata": {},
   "outputs": [],
   "source": [
    "import matplotlib.pyplot as plt\n",
    "import numpy as np\n",
    "import pickle\n",
    "import torch as pt \n",
    "# from torch.utils.data import dataset as Dataset\n",
    "from torch.utils.data import Dataset\n",
    "from torch.utils.data import DataLoader"
   ]
  },
  {
   "cell_type": "markdown",
   "metadata": {},
   "source": [
    "# Se obtienen los datos con los cuales se va a trabajar"
   ]
  },
  {
   "cell_type": "code",
   "execution_count": 2,
   "metadata": {},
   "outputs": [],
   "source": [
    "# Custom subdirectory to find images\n",
    "DIRECTORY = \"images\"\n",
    "def load_data():\n",
    "    def unpickle(file):\n",
    "        with open(file, 'rb') as fo:\n",
    "            dict = pickle.load(fo, encoding='bytes')\n",
    "        return dict\n",
    "    names = [n.decode('utf-8') for n in unpickle(DIRECTORY+\"/batches.meta\")[b'label_names']]\n",
    "    x_train = None\n",
    "    y_train = []\n",
    "    for i in range(1,6):\n",
    "        data = unpickle(DIRECTORY+\"/data_batch_\"+str(i))\n",
    "        if i>1:\n",
    "            x_train = np.append(x_train, data[b'data'], axis=0)\n",
    "        else:\n",
    "            x_train = data[b'data']\n",
    "        y_train += data[b'labels']\n",
    "    data = unpickle(DIRECTORY+\"/test_batch\")\n",
    "    x_test = data[b'data']\n",
    "    y_test = data[b'labels']\n",
    "    return names,x_train,y_train,x_test,y_test\n",
    "\n",
    "names,x_train,y_train,x_test,y_test = load_data()"
   ]
  },
  {
   "cell_type": "markdown",
   "metadata": {},
   "source": [
    "# Se obtiene la visualización de imágenes"
   ]
  },
  {
   "cell_type": "code",
   "execution_count": 3,
   "metadata": {},
   "outputs": [
    {
     "data": {
      "image/png": "[encoded data removed]",
      "text/plain": [
       "<Figure size 432x288 with 1 Axes>"
      ]
     },
     "metadata": {
      "needs_background": "light"
     },
     "output_type": "display_data"
    },
    {
     "name": "stdout",
     "output_type": "stream",
     "text": [
      "automobile\n"
     ]
    }
   ],
   "source": [
    "def plot_tensor(tensor, perm=None):\n",
    "    if perm==None: perm = (1,2,0)\n",
    "    plt.figure()\n",
    "    plt.imshow(tensor.permute(perm).numpy().astype(np.uint8))\n",
    "    plt.show()\n",
    "images = pt.Tensor(x_train)\n",
    "images = images.resize_(50000,3,32,32)\n",
    "plot_tensor(images[5])\n",
    "print(names[y_train[5]])\n"
   ]
  },
  {
   "cell_type": "markdown",
   "metadata": {},
   "source": [
    "# Se crea la clase que va a ser llamada para entrenarse"
   ]
  },
  {
   "cell_type": "code",
   "execution_count": 4,
   "metadata": {},
   "outputs": [],
   "source": [
    "# Se crea una clase que hereda de torch.nn.Module\n",
    "# En el constructor se debe llamar al constructor padre  y crear sus capas\n",
    "# Y se debe crear su método forward que ejecuta el paso de los datos por las neuronas\n",
    "\n",
    "\n",
    "class SurvivorClassifier(pt.nn.Module):\n",
    "\t# def __init__(self, struct, activations,type):\n",
    "\tdef __init__(self):\n",
    "\t\tsuper().__init__()\n",
    "\t\t# self.fc = []\n",
    "\t\t# self.act = []\n",
    "\n",
    "\t\t# self.fc1 = pt.nn.Linear(9, 5)\n",
    "\t\t# self.act1 = pt.nn.ReLU()\n",
    "\t\t# self.fc2 = pt.nn.Linear(5, 1)\n",
    "\t\t# self.act2 = pt.nn.Sigmoid()\n",
    "\t\tself.fc1 = pt.nn.Conv2d(3, 5, (3,3))\n",
    "\t\tself.act1 = pt.nn.ReLU()\n",
    "\t\tself.pool1 = pt.nn.MaxPool2d(2)\n",
    "\n",
    "\t\tself.fc2 = pt.nn.Conv2d(5, 3, (3,3))\n",
    "\t\tself.act2 = pt.nn.ReLU()\n",
    "\t\tself.pool2 = pt.nn.MaxPool2d(2)\n",
    "\n",
    "\t\tself.fc3 = pt.nn.Linear(108, 10)\n",
    "\t\tself.act3 = pt.nn.Sigmoid()\n",
    "\n",
    "\n",
    "\n",
    "\n",
    "\n",
    "\tdef forward(self, x):\n",
    "\t\th1 = self.pool1(self.act1(self.fc1(x)))\n",
    "\t\th2 = self.pool2(self.act2(self.fc2(h1)))\n",
    "\t\th3 = self.fc3(h2.view(h2.size(0), -1) )# Repasar que se hizo .... (Tiene una entrada enorme....)\n",
    "\t\treturn self.act3( h3 )\n",
    "\t\t# h = self.act1( self.fc1(x) )\n",
    "\t\t# out = self.act2( self.fc2(h) )\n",
    "\t\t# return out\n"
   ]
  },
  {
   "cell_type": "markdown",
   "metadata": {},
   "source": [
    "# Se convierte los datos en tensores y se hace los batch de entrenamiento"
   ]
  },
  {
   "cell_type": "code",
   "execution_count": 12,
   "metadata": {},
   "outputs": [],
   "source": [
    "names,x_train,y_train,x_test,y_test = load_data()\n",
    "x_train = pt.Tensor(x_train)\n",
    "y_train = pt.Tensor(y_train)\n",
    "x_test = pt.Tensor(x_test)\n",
    "y_test = pt.Tensor(y_test)\n",
    "x_train = x_train.resize_(50000,3,32,32)\n",
    "x_test = x_train.resize_(10000,3,32,32)"
   ]
  },
  {
   "cell_type": "code",
   "execution_count": 6,
   "metadata": {},
   "outputs": [],
   "source": [
    "class MyDataset(Dataset):\n",
    "    def __init__(self, x, y):\n",
    "        super(MyDataset, self).__init__()\n",
    "        assert x.shape[0] == y.shape[0] # assuming shape[0] = dataset size\n",
    "        self.x = x\n",
    "        self.y = y\n",
    "\n",
    "\n",
    "    def __len__(self):\n",
    "        return self.y.shape[0]\n",
    "\n",
    "    def __getitem__(self, index):\n",
    "        return self.x[index], self.y[index]\n",
    "traindata = MyDataset(x_train, y_train)\n",
    "train_dataloader = DataLoader(traindata, batch_size=5000, shuffle=True)\n",
    "# train_features, train_labels = next(iter(train_dataloader))"
   ]
  },
  {
   "cell_type": "markdown",
   "metadata": {},
   "source": [
    "Se instancia el modelo y sus parametros"
   ]
  },
  {
   "cell_type": "code",
   "execution_count": 7,
   "metadata": {},
   "outputs": [
    {
     "ename": "KeyboardInterrupt",
     "evalue": "",
     "output_type": "error",
     "traceback": [
      "\u001b[1;31m---------------------------------------------------------------------------\u001b[0m",
      "\u001b[1;31mKeyboardInterrupt\u001b[0m                         Traceback (most recent call last)",
      "\u001b[1;32mc:\\Users\\Carlos\\Desktop\\University\\Semestre Actual\\MachineLearning\\CNN\\codigo.ipynb Cell 14'\u001b[0m in \u001b[0;36m<cell line: 5>\u001b[1;34m()\u001b[0m\n\u001b[0;32m      <a href='vscode-notebook-cell:/c%3A/Users/Carlos/Desktop/University/Semestre%20Actual/MachineLearning/CNN/codigo.ipynb#ch0000013?line=4'>5</a>\u001b[0m \u001b[39mfor\u001b[39;00m i \u001b[39min\u001b[39;00m \u001b[39mrange\u001b[39m(\u001b[39m100\u001b[39m):\n\u001b[0;32m      <a href='vscode-notebook-cell:/c%3A/Users/Carlos/Desktop/University/Semestre%20Actual/MachineLearning/CNN/codigo.ipynb#ch0000013?line=5'>6</a>\u001b[0m \toptimizer\u001b[39m.\u001b[39mzero_grad()\t\t\t\u001b[39m# Coloca los Δw en 0\u001b[39;00m\n\u001b[1;32m----> <a href='vscode-notebook-cell:/c%3A/Users/Carlos/Desktop/University/Semestre%20Actual/MachineLearning/CNN/codigo.ipynb#ch0000013?line=6'>7</a>\u001b[0m \ty_pred \u001b[39m=\u001b[39m model(  x_train )\t\t\u001b[39m# Predice los valores del conjunto de entrenamiento\u001b[39;00m\n\u001b[0;32m      <a href='vscode-notebook-cell:/c%3A/Users/Carlos/Desktop/University/Semestre%20Actual/MachineLearning/CNN/codigo.ipynb#ch0000013?line=7'>8</a>\u001b[0m \tloss \u001b[39m=\u001b[39m loss_fn(y_pred\u001b[39m.\u001b[39mmax(\u001b[39m1\u001b[39m)\u001b[39m.\u001b[39mvalues, y_train)\t\u001b[39m# Calcula la pérdida\u001b[39;00m\n\u001b[0;32m      <a href='vscode-notebook-cell:/c%3A/Users/Carlos/Desktop/University/Semestre%20Actual/MachineLearning/CNN/codigo.ipynb#ch0000013?line=8'>9</a>\u001b[0m \tloss\u001b[39m.\u001b[39mbackward()\t\t\t\t\t\u001b[39m# Calcula el backprogration (Δw) y acumula el error\u001b[39;00m\n",
      "File \u001b[1;32mc:\\Users\\Carlos\\anaconda3\\envs\\Redes\\lib\\site-packages\\torch\\nn\\modules\\module.py:1110\u001b[0m, in \u001b[0;36mModule._call_impl\u001b[1;34m(self, *input, **kwargs)\u001b[0m\n\u001b[0;32m   <a href='file:///c%3A/Users/Carlos/anaconda3/envs/Redes/lib/site-packages/torch/nn/modules/module.py?line=1105'>1106</a>\u001b[0m \u001b[39m# If we don't have any hooks, we want to skip the rest of the logic in\u001b[39;00m\n\u001b[0;32m   <a href='file:///c%3A/Users/Carlos/anaconda3/envs/Redes/lib/site-packages/torch/nn/modules/module.py?line=1106'>1107</a>\u001b[0m \u001b[39m# this function, and just call forward.\u001b[39;00m\n\u001b[0;32m   <a href='file:///c%3A/Users/Carlos/anaconda3/envs/Redes/lib/site-packages/torch/nn/modules/module.py?line=1107'>1108</a>\u001b[0m \u001b[39mif\u001b[39;00m \u001b[39mnot\u001b[39;00m (\u001b[39mself\u001b[39m\u001b[39m.\u001b[39m_backward_hooks \u001b[39mor\u001b[39;00m \u001b[39mself\u001b[39m\u001b[39m.\u001b[39m_forward_hooks \u001b[39mor\u001b[39;00m \u001b[39mself\u001b[39m\u001b[39m.\u001b[39m_forward_pre_hooks \u001b[39mor\u001b[39;00m _global_backward_hooks\n\u001b[0;32m   <a href='file:///c%3A/Users/Carlos/anaconda3/envs/Redes/lib/site-packages/torch/nn/modules/module.py?line=1108'>1109</a>\u001b[0m         \u001b[39mor\u001b[39;00m _global_forward_hooks \u001b[39mor\u001b[39;00m _global_forward_pre_hooks):\n\u001b[1;32m-> <a href='file:///c%3A/Users/Carlos/anaconda3/envs/Redes/lib/site-packages/torch/nn/modules/module.py?line=1109'>1110</a>\u001b[0m     \u001b[39mreturn\u001b[39;00m forward_call(\u001b[39m*\u001b[39m\u001b[39minput\u001b[39m, \u001b[39m*\u001b[39m\u001b[39m*\u001b[39mkwargs)\n\u001b[0;32m   <a href='file:///c%3A/Users/Carlos/anaconda3/envs/Redes/lib/site-packages/torch/nn/modules/module.py?line=1110'>1111</a>\u001b[0m \u001b[39m# Do not call functions when jit is used\u001b[39;00m\n\u001b[0;32m   <a href='file:///c%3A/Users/Carlos/anaconda3/envs/Redes/lib/site-packages/torch/nn/modules/module.py?line=1111'>1112</a>\u001b[0m full_backward_hooks, non_full_backward_hooks \u001b[39m=\u001b[39m [], []\n",
      "\u001b[1;32mc:\\Users\\Carlos\\Desktop\\University\\Semestre Actual\\MachineLearning\\CNN\\codigo.ipynb Cell 9'\u001b[0m in \u001b[0;36mSurvivorClassifier.forward\u001b[1;34m(self, x)\u001b[0m\n\u001b[0;32m     <a href='vscode-notebook-cell:/c%3A/Users/Carlos/Desktop/University/Semestre%20Actual/MachineLearning/CNN/codigo.ipynb#ch0000008?line=31'>32</a>\u001b[0m \u001b[39mdef\u001b[39;00m \u001b[39mforward\u001b[39m(\u001b[39mself\u001b[39m, x):\n\u001b[1;32m---> <a href='vscode-notebook-cell:/c%3A/Users/Carlos/Desktop/University/Semestre%20Actual/MachineLearning/CNN/codigo.ipynb#ch0000008?line=32'>33</a>\u001b[0m \th1 \u001b[39m=\u001b[39m \u001b[39mself\u001b[39m\u001b[39m.\u001b[39mpool1(\u001b[39mself\u001b[39m\u001b[39m.\u001b[39mact1(\u001b[39mself\u001b[39;49m\u001b[39m.\u001b[39;49mfc1(x)))\n\u001b[0;32m     <a href='vscode-notebook-cell:/c%3A/Users/Carlos/Desktop/University/Semestre%20Actual/MachineLearning/CNN/codigo.ipynb#ch0000008?line=33'>34</a>\u001b[0m \th2 \u001b[39m=\u001b[39m \u001b[39mself\u001b[39m\u001b[39m.\u001b[39mpool2(\u001b[39mself\u001b[39m\u001b[39m.\u001b[39mact2(\u001b[39mself\u001b[39m\u001b[39m.\u001b[39mfc2(h1)))\n\u001b[0;32m     <a href='vscode-notebook-cell:/c%3A/Users/Carlos/Desktop/University/Semestre%20Actual/MachineLearning/CNN/codigo.ipynb#ch0000008?line=34'>35</a>\u001b[0m \th3 \u001b[39m=\u001b[39m \u001b[39mself\u001b[39m\u001b[39m.\u001b[39mfc3(h2\u001b[39m.\u001b[39mview(h2\u001b[39m.\u001b[39msize(\u001b[39m0\u001b[39m), \u001b[39m-\u001b[39m\u001b[39m1\u001b[39m) )\u001b[39m# Repasar que se hizo .... (Tiene una entrada enorme....)\u001b[39;00m\n",
      "File \u001b[1;32mc:\\Users\\Carlos\\anaconda3\\envs\\Redes\\lib\\site-packages\\torch\\nn\\modules\\module.py:1110\u001b[0m, in \u001b[0;36mModule._call_impl\u001b[1;34m(self, *input, **kwargs)\u001b[0m\n\u001b[0;32m   <a href='file:///c%3A/Users/Carlos/anaconda3/envs/Redes/lib/site-packages/torch/nn/modules/module.py?line=1105'>1106</a>\u001b[0m \u001b[39m# If we don't have any hooks, we want to skip the rest of the logic in\u001b[39;00m\n\u001b[0;32m   <a href='file:///c%3A/Users/Carlos/anaconda3/envs/Redes/lib/site-packages/torch/nn/modules/module.py?line=1106'>1107</a>\u001b[0m \u001b[39m# this function, and just call forward.\u001b[39;00m\n\u001b[0;32m   <a href='file:///c%3A/Users/Carlos/anaconda3/envs/Redes/lib/site-packages/torch/nn/modules/module.py?line=1107'>1108</a>\u001b[0m \u001b[39mif\u001b[39;00m \u001b[39mnot\u001b[39;00m (\u001b[39mself\u001b[39m\u001b[39m.\u001b[39m_backward_hooks \u001b[39mor\u001b[39;00m \u001b[39mself\u001b[39m\u001b[39m.\u001b[39m_forward_hooks \u001b[39mor\u001b[39;00m \u001b[39mself\u001b[39m\u001b[39m.\u001b[39m_forward_pre_hooks \u001b[39mor\u001b[39;00m _global_backward_hooks\n\u001b[0;32m   <a href='file:///c%3A/Users/Carlos/anaconda3/envs/Redes/lib/site-packages/torch/nn/modules/module.py?line=1108'>1109</a>\u001b[0m         \u001b[39mor\u001b[39;00m _global_forward_hooks \u001b[39mor\u001b[39;00m _global_forward_pre_hooks):\n\u001b[1;32m-> <a href='file:///c%3A/Users/Carlos/anaconda3/envs/Redes/lib/site-packages/torch/nn/modules/module.py?line=1109'>1110</a>\u001b[0m     \u001b[39mreturn\u001b[39;00m forward_call(\u001b[39m*\u001b[39m\u001b[39minput\u001b[39m, \u001b[39m*\u001b[39m\u001b[39m*\u001b[39mkwargs)\n\u001b[0;32m   <a href='file:///c%3A/Users/Carlos/anaconda3/envs/Redes/lib/site-packages/torch/nn/modules/module.py?line=1110'>1111</a>\u001b[0m \u001b[39m# Do not call functions when jit is used\u001b[39;00m\n\u001b[0;32m   <a href='file:///c%3A/Users/Carlos/anaconda3/envs/Redes/lib/site-packages/torch/nn/modules/module.py?line=1111'>1112</a>\u001b[0m full_backward_hooks, non_full_backward_hooks \u001b[39m=\u001b[39m [], []\n",
      "File \u001b[1;32mc:\\Users\\Carlos\\anaconda3\\envs\\Redes\\lib\\site-packages\\torch\\nn\\modules\\conv.py:447\u001b[0m, in \u001b[0;36mConv2d.forward\u001b[1;34m(self, input)\u001b[0m\n\u001b[0;32m    <a href='file:///c%3A/Users/Carlos/anaconda3/envs/Redes/lib/site-packages/torch/nn/modules/conv.py?line=445'>446</a>\u001b[0m \u001b[39mdef\u001b[39;00m \u001b[39mforward\u001b[39m(\u001b[39mself\u001b[39m, \u001b[39minput\u001b[39m: Tensor) \u001b[39m-\u001b[39m\u001b[39m>\u001b[39m Tensor:\n\u001b[1;32m--> <a href='file:///c%3A/Users/Carlos/anaconda3/envs/Redes/lib/site-packages/torch/nn/modules/conv.py?line=446'>447</a>\u001b[0m     \u001b[39mreturn\u001b[39;00m \u001b[39mself\u001b[39;49m\u001b[39m.\u001b[39;49m_conv_forward(\u001b[39minput\u001b[39;49m, \u001b[39mself\u001b[39;49m\u001b[39m.\u001b[39;49mweight, \u001b[39mself\u001b[39;49m\u001b[39m.\u001b[39;49mbias)\n",
      "File \u001b[1;32mc:\\Users\\Carlos\\anaconda3\\envs\\Redes\\lib\\site-packages\\torch\\nn\\modules\\conv.py:443\u001b[0m, in \u001b[0;36mConv2d._conv_forward\u001b[1;34m(self, input, weight, bias)\u001b[0m\n\u001b[0;32m    <a href='file:///c%3A/Users/Carlos/anaconda3/envs/Redes/lib/site-packages/torch/nn/modules/conv.py?line=438'>439</a>\u001b[0m \u001b[39mif\u001b[39;00m \u001b[39mself\u001b[39m\u001b[39m.\u001b[39mpadding_mode \u001b[39m!=\u001b[39m \u001b[39m'\u001b[39m\u001b[39mzeros\u001b[39m\u001b[39m'\u001b[39m:\n\u001b[0;32m    <a href='file:///c%3A/Users/Carlos/anaconda3/envs/Redes/lib/site-packages/torch/nn/modules/conv.py?line=439'>440</a>\u001b[0m     \u001b[39mreturn\u001b[39;00m F\u001b[39m.\u001b[39mconv2d(F\u001b[39m.\u001b[39mpad(\u001b[39minput\u001b[39m, \u001b[39mself\u001b[39m\u001b[39m.\u001b[39m_reversed_padding_repeated_twice, mode\u001b[39m=\u001b[39m\u001b[39mself\u001b[39m\u001b[39m.\u001b[39mpadding_mode),\n\u001b[0;32m    <a href='file:///c%3A/Users/Carlos/anaconda3/envs/Redes/lib/site-packages/torch/nn/modules/conv.py?line=440'>441</a>\u001b[0m                     weight, bias, \u001b[39mself\u001b[39m\u001b[39m.\u001b[39mstride,\n\u001b[0;32m    <a href='file:///c%3A/Users/Carlos/anaconda3/envs/Redes/lib/site-packages/torch/nn/modules/conv.py?line=441'>442</a>\u001b[0m                     _pair(\u001b[39m0\u001b[39m), \u001b[39mself\u001b[39m\u001b[39m.\u001b[39mdilation, \u001b[39mself\u001b[39m\u001b[39m.\u001b[39mgroups)\n\u001b[1;32m--> <a href='file:///c%3A/Users/Carlos/anaconda3/envs/Redes/lib/site-packages/torch/nn/modules/conv.py?line=442'>443</a>\u001b[0m \u001b[39mreturn\u001b[39;00m F\u001b[39m.\u001b[39;49mconv2d(\u001b[39minput\u001b[39;49m, weight, bias, \u001b[39mself\u001b[39;49m\u001b[39m.\u001b[39;49mstride,\n\u001b[0;32m    <a href='file:///c%3A/Users/Carlos/anaconda3/envs/Redes/lib/site-packages/torch/nn/modules/conv.py?line=443'>444</a>\u001b[0m                 \u001b[39mself\u001b[39;49m\u001b[39m.\u001b[39;49mpadding, \u001b[39mself\u001b[39;49m\u001b[39m.\u001b[39;49mdilation, \u001b[39mself\u001b[39;49m\u001b[39m.\u001b[39;49mgroups)\n",
      "\u001b[1;31mKeyboardInterrupt\u001b[0m: "
     ]
    }
   ],
   "source": [
    "model = SurvivorClassifier()\t# Crea el modelo\n",
    "loss_fn = pt.nn.MSELoss()\t\t# Función de error a utilizar\n",
    "optimizer = pt.optim.Adam(model.parameters(), lr=0.01)\t\t# Optimizador\n",
    "\n",
    "for i in range(100):\n",
    "\toptimizer.zero_grad()\t\t\t# Coloca los Δw en 0\n",
    "\ty_pred = model(  x_train )\t\t# Predice los valores del conjunto de entrenamiento\n",
    "\tloss = loss_fn(y_pred.max(1).values, y_train)\t# Calcula la pérdida\n",
    "\tloss.backward()\t\t\t\t\t# Calcula el backprogration (Δw) y acumula el error\n",
    "\toptimizer.step()\t\t\t\t# Aplica los Δw acumulados y avanza un paso la iter. \n",
    "\tprint(\"Loss:\", loss.item())\t\t# Imprime la pérdida \n",
    "\n",
    "# loss_train = []\n",
    "# loss_test = []\n",
    "# for i in range(10000):\n",
    "# \toptimizer.zero_grad()\n",
    "# \ty_pred = model(  x_train )\n",
    "# \tloss = loss_fn(y_pred, y_train)\n",
    "# \tloss.backward()\n",
    "# \toptimizer.step()\n",
    "# \twith pt.no_grad():\t\t\t# Apaga el cálculo de gradientes\n",
    "# \t\tloss2 = loss_fn( model(x_test), y_test)\n",
    "# \tloss_train.append(loss.item())\n",
    "# \tloss_test.append(loss2.item())\n",
    "\n",
    "\n"
   ]
  },
  {
   "cell_type": "code",
   "execution_count": 15,
   "metadata": {},
   "outputs": [
    {
     "name": "stdout",
     "output_type": "stream",
     "text": [
      "0\n",
      "10\n",
      "20\n",
      "30\n",
      "40\n",
      "50\n",
      "60\n",
      "70\n",
      "80\n",
      "90\n"
     ]
    }
   ],
   "source": [
    "model = SurvivorClassifier()\t# Crea el modelo\n",
    "loss_fn = pt.nn.MSELoss()\t\t# Función de error a utilizar\n",
    "optimizer = pt.optim.Adam(model.parameters(), lr=0.01)\t\t# Optimizador\n",
    "\n",
    "\n",
    "loss_train = []\n",
    "loss_test = []\n",
    "\n",
    "for i in range(100):\n",
    "\ttrain_features, train_labels = next(iter(train_dataloader))\n",
    "\toptimizer.zero_grad()\t\t\t# Coloca los Δw en 0\n",
    "\ty_pred = model( train_features) # Predice los valores del conjunto de entrenamiento\n",
    "\tloss = loss_fn(y_pred.max(1).values, train_labels)\t# Calcula la pérdida\n",
    "\tloss.backward()\t\t\t\t\t# Calcula el backprogration (Δw) y acumula el error\n",
    "\toptimizer.step()\t\t\t\t# Aplica los Δw acumulados y avanza un paso la iter. \n",
    "\twith pt.no_grad():\t\t\t# Apaga el cálculo de gradientes\n",
    "\t\tloss2 = loss_fn( model(x_test).max(1).values, y_test)\n",
    "\tloss_train.append(loss.item())\n",
    "\tloss_test.append(loss2.item())\n",
    "\tif(i%10 == 0):\n",
    "\t\tprint(i)\n",
    "\n",
    "\n",
    "# loss_train = []\n",
    "# loss_test = []\n",
    "# for i in range(10000):\n",
    "# \toptimizer.zero_grad()\n",
    "# \ty_pred = model(  x_train )\n",
    "# \tloss = loss_fn(y_pred, y_train)\n",
    "# \tloss.backward()\n",
    "# \toptimizer.step()\n",
    "# \twith pt.no_grad():\t\t\t# Apaga el cálculo de gradientes\n",
    "# \t\tloss2 = loss_fn( model(x_test), y_test)\n",
    "# \tloss_train.append(loss.item())\n",
    "# \tloss_test.append(loss2.item())"
   ]
  },
  {
   "cell_type": "code",
   "execution_count": 26,
   "metadata": {},
   "outputs": [
    {
     "data": {
      "image/png": "[encoded data removed]",
      "text/plain": [
       "<Figure size 432x288 with 1 Axes>"
      ]
     },
     "metadata": {
      "needs_background": "light"
     },
     "output_type": "display_data"
    },
    {
     "data": {
      "text/plain": [
       "[20.331893920898438,\n",
       " 20.84079933166504,\n",
       " 20.709199905395508,\n",
       " 20.07900047302246,\n",
       " 20.411800384521484,\n",
       " 20.904199600219727,\n",
       " 20.59760093688965,\n",
       " 20.610000610351562,\n",
       " 19.808000564575195,\n",
       " 20.32159996032715,\n",
       " 20.503400802612305,\n",
       " 20.351600646972656,\n",
       " 20.621400833129883,\n",
       " 20.138999938964844,\n",
       " 20.177799224853516,\n",
       " 20.482200622558594,\n",
       " 20.236799240112305,\n",
       " 20.579200744628906,\n",
       " 21.108800888061523,\n",
       " 20.347000122070312,\n",
       " 20.5851993560791,\n",
       " 20.110599517822266,\n",
       " 20.570199966430664,\n",
       " 20.492399215698242,\n",
       " 20.50819969177246,\n",
       " 20.202199935913086,\n",
       " 20.74220085144043,\n",
       " 19.938400268554688,\n",
       " 20.528799057006836,\n",
       " 20.719999313354492,\n",
       " 20.82819938659668,\n",
       " 20.6112003326416,\n",
       " 20.434799194335938,\n",
       " 20.600000381469727,\n",
       " 20.212799072265625,\n",
       " 20.38279914855957,\n",
       " 20.429000854492188,\n",
       " 20.578800201416016,\n",
       " 20.498199462890625,\n",
       " 20.96980094909668,\n",
       " 19.878000259399414,\n",
       " 20.93939971923828,\n",
       " 20.9148006439209,\n",
       " 21.18199920654297,\n",
       " 20.451400756835938,\n",
       " 20.486600875854492,\n",
       " 20.69659996032715,\n",
       " 20.917999267578125,\n",
       " 20.39459991455078,\n",
       " 20.485200881958008,\n",
       " 20.964799880981445,\n",
       " 20.082799911499023,\n",
       " 20.923200607299805,\n",
       " 20.483800888061523,\n",
       " 20.743999481201172,\n",
       " 20.479999542236328,\n",
       " 19.87459945678711,\n",
       " 20.589000701904297,\n",
       " 20.552799224853516,\n",
       " 20.52560043334961,\n",
       " 20.565200805664062,\n",
       " 20.5585994720459,\n",
       " 20.345600128173828,\n",
       " 20.46619987487793,\n",
       " 20.212799072265625,\n",
       " 20.427200317382812,\n",
       " 20.936599731445312,\n",
       " 20.11440086364746,\n",
       " 20.525999069213867,\n",
       " 19.982799530029297,\n",
       " 20.743200302124023,\n",
       " 20.36240005493164,\n",
       " 20.620800018310547,\n",
       " 20.435400009155273,\n",
       " 20.67639923095703,\n",
       " 20.53339958190918,\n",
       " 20.175800323486328,\n",
       " 20.785200119018555,\n",
       " 20.598600387573242,\n",
       " 20.765399932861328,\n",
       " 20.625,\n",
       " 20.45639991760254,\n",
       " 20.128599166870117,\n",
       " 20.92180061340332,\n",
       " 20.686599731445312,\n",
       " 20.334199905395508,\n",
       " 20.570199966430664,\n",
       " 20.528600692749023,\n",
       " 20.729999542236328,\n",
       " 20.977399826049805,\n",
       " 20.750200271606445,\n",
       " 20.628799438476562,\n",
       " 20.028600692749023,\n",
       " 20.554800033569336,\n",
       " 20.32979965209961,\n",
       " 20.754199981689453,\n",
       " 20.5044002532959,\n",
       " 20.742399215698242,\n",
       " 20.15760040283203,\n",
       " 20.562400817871094]"
      ]
     },
     "execution_count": 26,
     "metadata": {},
     "output_type": "execute_result"
    }
   ],
   "source": [
    "plt.plot(loss_train)\n",
    "plt.plot(loss_test)\n",
    "plt.show()"
   ]
  }
 ],
 "metadata": {
  "interpreter": {
   "hash": "f725ec176118a03aef320ba7e9e1619fcadcf0b1f58c334b8b384d7214ca7a14"
  },
  "kernelspec": {
   "display_name": "Python 3.9.12 ('Redes')",
   "language": "python",
   "name": "python3"
  },
  "language_info": {
   "codemirror_mode": {
    "name": "ipython",
    "version": 3
   },
   "file_extension": ".py",
   "mimetype": "text/x-python",
   "name": "python",
   "nbconvert_exporter": "python",
   "pygments_lexer": "ipython3",
   "version": "3.9.12"
  },
  "orig_nbformat": 4
 },
 "nbformat": 4,
 "nbformat_minor": 2
}
